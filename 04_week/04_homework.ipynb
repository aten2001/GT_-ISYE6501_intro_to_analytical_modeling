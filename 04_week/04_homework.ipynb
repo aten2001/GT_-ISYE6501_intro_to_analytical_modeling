{
 "cells": [
  {
   "cell_type": "markdown",
   "metadata": {},
   "source": [
    "## Library Imports"
   ]
  },
  {
   "cell_type": "code",
   "execution_count": 87,
   "metadata": {},
   "outputs": [
    {
     "name": "stderr",
     "output_type": "stream",
     "text": [
      "Loading required package: lattice\n",
      "Loading required package: ggplot2\n",
      "\n",
      "Attaching package: ‘ggplot2’\n",
      "\n",
      "The following object is masked from ‘package:randomForest’:\n",
      "\n",
      "    margin\n",
      "\n"
     ]
    }
   ],
   "source": [
    "library(glue)\n",
    "library(rpart)\n",
    "library(RColorBrewer)\n",
    "library(randomForest)\n",
    "library(caret)\n",
    "\n",
    "options(repr.plot.width=10, repr.plot.height=5)\n",
    "\n",
    "set.seed(20)\n",
    "options(warn=-1)"
   ]
  },
  {
   "cell_type": "markdown",
   "metadata": {},
   "source": [
    "### Question 9.1\n",
    "\n",
    "**Using the same crime data set uscrime.txt as in Question 8.2, apply Principal Component Analysis and then create a regression model using the first few principal components. Specify your new model in terms of the original variables (not the principal components), and compare its quality to that of your solution to Question 8.2. You can use the R function prcomp for PCA. (Note that to first scale the data, you can include scale. = TRUE to scale as part of the PCA function. Don’t forget that, to make a prediction for the new city, you’ll need to unscale the coefficients (i.e., do the scaling calculation in reverse)!)**"
   ]
  },
  {
   "cell_type": "markdown",
   "metadata": {},
   "source": [
    "A few helper functions I need in order to evaluate the regression models are defined first.\n",
    "\n",
    "The root mean squared error (RMSE) and the mean absolute error (MAE) functions are defined below. These functions will be used to understand the performance of the models. The lower the error the better the model."
   ]
  },
  {
   "cell_type": "code",
   "execution_count": 3,
   "metadata": {
    "collapsed": true
   },
   "outputs": [],
   "source": [
    "# RMSE function\n",
    "rmse <- function(resids) {\n",
    "    sqrt(mean(resids^2))\n",
    "}\n",
    "# MAE function\n",
    "mae <- function(resids) {\n",
    "    mean(abs(resids))\n",
    "}"
   ]
  },
  {
   "cell_type": "markdown",
   "metadata": {},
   "source": [
    "The data is read in and defined as a data frame."
   ]
  },
  {
   "cell_type": "code",
   "execution_count": 4,
   "metadata": {
    "collapsed": true
   },
   "outputs": [],
   "source": [
    "crime_data <- read.table('../data/9.1uscrimeSummer2018.txt', sep='', header=TRUE)"
   ]
  },
  {
   "cell_type": "markdown",
   "metadata": {},
   "source": [
    "The sample data that the final model is going to be used to predict on is:"
   ]
  },
  {
   "cell_type": "code",
   "execution_count": 51,
   "metadata": {
    "collapsed": true
   },
   "outputs": [],
   "source": [
    "M  <-  14.0\n",
    "So <- 0\n",
    "Ed <- 10.0\n",
    "Po1 <- 12.0\n",
    "Po2 <- 15.5\n",
    "LF <- 0.640\n",
    "M.F <- 94.0\n",
    "Pop <- 150\n",
    "NW <- 1.1\n",
    "U1 <- 0.120\n",
    "U2 <- 3.6\n",
    "Wealth <- 3200\n",
    "Ineq <- 20.1\n",
    "Prob <- 0.04\n",
    "Time <- 39.0\n",
    "\n",
    "sample_data <- data.frame(M,So,Ed,Po1,Po2,LF,M.F,Pop,NW,U1,U2,Wealth,Ineq,Prob,Time)"
   ]
  },
  {
   "cell_type": "markdown",
   "metadata": {},
   "source": [
    "From homework 3 question 8.2, the best performing model I found had the following formula:\n",
    "\n",
    "Crime ~ M + Ed + Po1 + U2 + Ineq + Prob + Time\n",
    "\n",
    "The model from question 8.2 is defined and evaluated below."
   ]
  },
  {
   "cell_type": "code",
   "execution_count": 52,
   "metadata": {},
   "outputs": [
    {
     "name": "stdout",
     "output_type": "stream",
     "text": [
      "Prediction for the crime rate for the sample data is 1285.283\n",
      "[1] \"Model from Question 8.2\"\n",
      "\n",
      "Call:\n",
      "lm(formula = Crime ~ M + Ed + Po1 + U2 + Ineq + Prob + Time, \n",
      "    data = crime_data)\n",
      "\n",
      "Residuals:\n",
      "    Min      1Q  Median      3Q     Max \n",
      "-480.89  -89.12   -6.63  140.27  576.79 \n",
      "\n",
      "Coefficients:\n",
      "             Estimate Std. Error t value Pr(>|t|)    \n",
      "(Intercept) -4911.094    960.729  -5.112 8.79e-06 ***\n",
      "M             106.659     33.877   3.148 0.003144 ** \n",
      "Ed            189.408     48.288   3.922 0.000345 ***\n",
      "Po1           115.704     13.993   8.269 4.16e-10 ***\n",
      "U2             88.720     41.364   2.145 0.038249 *  \n",
      "Ineq           67.728     14.083   4.809 2.28e-05 ***\n",
      "Prob        -4249.756   1880.672  -2.260 0.029502 *  \n",
      "Time           -2.310      5.538  -0.417 0.678810    \n",
      "---\n",
      "Signif. codes:  0 ‘***’ 0.001 ‘**’ 0.01 ‘*’ 0.05 ‘.’ 0.1 ‘ ’ 1\n",
      "\n",
      "Residual standard error: 202.8 on 39 degrees of freedom\n",
      "Multiple R-squared:  0.7669,\tAdjusted R-squared:  0.7251 \n",
      "F-statistic: 18.33 on 7 and 39 DF,  p-value: 1.553e-10\n",
      "\n"
     ]
    }
   ],
   "source": [
    "model_8 <- lm(formula=Crime ~ M + Ed + Po1 + U2 + Ineq + Prob + Time, data=crime_data)\n",
    "\n",
    "sample_prediction <- round(predict(model_8, sample_data), 3)\n",
    "\n",
    "print(glue(\"Prediction for the crime rate for the sample data is {sample_prediction}\"))\n",
    "print(\"Model from Question 8.2\")\n",
    "print(summary(model_8))"
   ]
  },
  {
   "cell_type": "markdown",
   "metadata": {},
   "source": [
    "The model from 8.2 had an adjusted R-squared of 0.7251 and a residual standard error of 202.8. Also, the predicted crime rate for the fictional city was 1285.283. This will be the baseline to compare the PCA models too.\n",
    "\n",
    "Perform scaling and PCA on the crime data."
   ]
  },
  {
   "cell_type": "code",
   "execution_count": 53,
   "metadata": {},
   "outputs": [],
   "source": [
    "pca_crime <- prcomp(crime_data[,-16], scale=TRUE)\n",
    "\n",
    "# Grab just the transformed data\n",
    "pca_data <- pca_crime$x\n",
    "pca_data <- cbind(pca_data, Crime=crime_data$Crime)"
   ]
  },
  {
   "cell_type": "markdown",
   "metadata": {},
   "source": [
    "How many components to use will be determined by testing a few different values. I'll use values between 3 and 6 components and evaluate each model with a 5 fold cross validation.\n",
    "\n",
    "In order to limit the amount of results shown, I will calculate the RMSE and MAE for each model and only for the best model will I show the summary of the model."
   ]
  },
  {
   "cell_type": "code",
   "execution_count": 54,
   "metadata": {
    "scrolled": false
   },
   "outputs": [
    {
     "name": "stdout",
     "output_type": "stream",
     "text": [
      "3-Component PCA\n",
      "RMSE: 352.926\n",
      "MAE: 281.825\n",
      "4-Component PCA\n",
      "RMSE: 350.955\n",
      "MAE: 278.844\n",
      "5-Component PCA\n",
      "RMSE: 275.227\n",
      "MAE: 222.131\n",
      "6-Component PCA\n",
      "RMSE: 273.053\n",
      "MAE: 220.4\n"
     ]
    }
   ],
   "source": [
    "for (n in 3:6) {\n",
    "    # Shuffle data\n",
    "    shuffled_df <- pca_data[sample(nrow(pca_data)), c(1:n, 16)]\n",
    "\n",
    "    # 5 fold split\n",
    "    folds <- cut(seq(1, nrow(pca_data)), breaks=5, labels=FALSE)\n",
    "\n",
    "    # For each fold, train and test on Linear Regression algorithm\n",
    "    resids <- c(1:nrow(pca_data))\n",
    "    preds <- c(1:nrow(pca_data))\n",
    "    for (i in 1:5) {\n",
    "        test_indices <- which(folds==i, arr.ind=TRUE)\n",
    "        test_data <- as.data.frame(shuffled_df[test_indices, ])\n",
    "        train_data <- as.data.frame(shuffled_df[-test_indices, ])\n",
    "\n",
    "        temp_fit <- lm(formula=Crime ~., data=train_data)\n",
    "\n",
    "        # Perform prediction step on test data since model was fit using the training data\n",
    "        preds[test_indices] <- predict(temp_fit, test_data)    \n",
    "        resids[test_indices] <- test_data$Crime - preds[test_indices]\n",
    "    }\n",
    "\n",
    "    overall_rmse <- round(rmse(resids), 3)\n",
    "    overall_mae <- round(mae(resids), 3)\n",
    "    \n",
    "    print(glue(\"{n}-Component PCA\"))\n",
    "    print(glue(\"RMSE: {overall_rmse}\"))\n",
    "    print(glue(\"MAE: {overall_mae}\")) \n",
    "}"
   ]
  },
  {
   "cell_type": "markdown",
   "metadata": {},
   "source": [
    "Based on the RMSE and MAE above, a 6-component PCA model is the best performing given a 5-fold CV. Using the full dataset, a final model with 6 components will be trained."
   ]
  },
  {
   "cell_type": "code",
   "execution_count": 55,
   "metadata": {},
   "outputs": [
    {
     "name": "stdout",
     "output_type": "stream",
     "text": [
      "Prediction for the crime rate for the sample data is 1248\n",
      "[1] \"6-Component PCA Model\"\n",
      "\n",
      "Call:\n",
      "lm(formula = Crime ~ ., data = as.data.frame(pca_data[, c(1:6, \n",
      "    16)]))\n",
      "\n",
      "Residuals:\n",
      "    Min      1Q  Median      3Q     Max \n",
      "-377.15 -172.23   25.81  132.10  480.38 \n",
      "\n",
      "Coefficients:\n",
      "            Estimate Std. Error t value Pr(>|t|)    \n",
      "(Intercept)   905.09      35.35  25.604  < 2e-16 ***\n",
      "PC1            65.22      14.56   4.478 6.14e-05 ***\n",
      "PC2           -70.08      21.35  -3.283  0.00214 ** \n",
      "PC3            25.19      25.23   0.998  0.32409    \n",
      "PC4            69.45      33.14   2.095  0.04252 *  \n",
      "PC5          -229.04      36.50  -6.275 1.94e-07 ***\n",
      "PC6           -60.21      48.04  -1.253  0.21734    \n",
      "---\n",
      "Signif. codes:  0 ‘***’ 0.001 ‘**’ 0.01 ‘*’ 0.05 ‘.’ 0.1 ‘ ’ 1\n",
      "\n",
      "Residual standard error: 242.3 on 40 degrees of freedom\n",
      "Multiple R-squared:  0.6586,\tAdjusted R-squared:  0.6074 \n",
      "F-statistic: 12.86 on 6 and 40 DF,  p-value: 4.869e-08\n",
      "\n"
     ]
    }
   ],
   "source": [
    "model_6_comp <- lm(formula=Crime ~ ., data=as.data.frame(pca_data[, c(1:6, 16)]))\n",
    "\n",
    "# Transform the sample data into the same PCA vector space by first scaling the data\n",
    "# around the center and the same scale range used when transforming the original dataset.\n",
    "# Then multiply by the rotation.\n",
    "sample_data_transformed <- scale(sample_data, pca_crime$center, pca_crime$scale) %*% pca_crime$rotation\n",
    "\n",
    "sample_prediction_pca <- round(predict(model_6_comp, as.data.frame(t(sample_data_transformed[, 1:6]), 3)))\n",
    "\n",
    "print(glue(\"Prediction for the crime rate for the sample data is {sample_prediction_pca}\"))\n",
    "print(\"6-Component PCA Model\")\n",
    "print(summary(model_6_comp))"
   ]
  },
  {
   "cell_type": "markdown",
   "metadata": {},
   "source": [
    "The adjusted R-squared was 0.6074 and the residual standard error was 242.3 which are both worse than the values for the model generated in question 8.2. Interestingly, the predicted crime rate was 1248 which was very similar to the 1285.283 value predicted by the model in question 8.2.\n",
    "\n",
    "This shows that the componenets generated by PCA are not the best predictors when predicting crime rate. Using the original predictors give better results."
   ]
  },
  {
   "cell_type": "markdown",
   "metadata": {},
   "source": [
    "### Question 10.1\n",
    "\n",
    "\n",
    "**Using the same crime data set uscrime.txt as in Questions 8.2 and 9.1, find the best model you can using**\n",
    "1. a regression tree model, and\n",
    "2. a random forest model.\n",
    "\n",
    "**In R, you can use the tree package or the rpart package, and the randomForest package. For each model, describe one or two qualitative takeaways you get from analyzing the results (i.e., don’t just stop when you have a good model, but interpret it too).**"
   ]
  },
  {
   "cell_type": "markdown",
   "metadata": {},
   "source": [
    "#### Regression Tree Model"
   ]
  },
  {
   "cell_type": "markdown",
   "metadata": {},
   "source": [
    "For the regression tree model, I decided to use the rpart library to build the model. The original dataset without any feature selection was used. Also, the complexity parameter (CP) is used to prune the tree. The printcp() function shows the CP at each split in the tree.\n",
    "\n",
    "My understanding of what this function is doing is that the tree is built out completely and then the tree is then pruned by removing the splits in data one by one. As each split is being removed, the CP is calculated. The CP has a minimum threshold of 0.01 and if the next split does not improve the R^2 value by 0.01 then the model is finished.\n",
    "\n",
    "The model below ended up with 3 splits before hitting the 0.01 threshold value. At each split the cross-validated error (xerror) is calculated and the tree at which the minimum xerror is found is the optimal model to use."
   ]
  },
  {
   "cell_type": "code",
   "execution_count": 22,
   "metadata": {
    "scrolled": false
   },
   "outputs": [
    {
     "name": "stdout",
     "output_type": "stream",
     "text": [
      "\n",
      "Regression tree:\n",
      "rpart(formula = Crime ~ ., data = crime_data, method = \"anova\")\n",
      "\n",
      "Variables actually used in tree construction:\n",
      "[1] NW  Po1 Pop\n",
      "\n",
      "Root node error: 6880928/47 = 146403\n",
      "\n",
      "n= 47 \n",
      "\n",
      "        CP nsplit rel error xerror    xstd\n",
      "1 0.362963      0   1.00000 1.0495 0.26921\n",
      "2 0.148143      1   0.63704 1.1724 0.24786\n",
      "3 0.051732      2   0.48889 1.2275 0.27769\n",
      "4 0.010000      3   0.43716 1.2019 0.27894\n"
     ]
    }
   ],
   "source": [
    "tree <- rpart(formula=Crime ~., method=\"anova\", data=crime_data)\n",
    "\n",
    "printcp(tree)"
   ]
  },
  {
   "cell_type": "markdown",
   "metadata": {},
   "source": [
    "Interestingly, only the NW, Pol and Pop features were used in creating the tree model. The optimal model, surprisingly, is when there is no split in the data.. Excluding this case leaves the tree with one split to have the lowest xerror value."
   ]
  },
  {
   "cell_type": "code",
   "execution_count": 24,
   "metadata": {},
   "outputs": [
    {
     "data": {
      "image/png": "[encoded data removed]",
      "text/plain": [
       "plot without title"
      ]
     },
     "metadata": {},
     "output_type": "display_data"
    }
   ],
   "source": [
    "plotcp(tree)"
   ]
  },
  {
   "cell_type": "markdown",
   "metadata": {},
   "source": [
    "The plotcp() function above plots the cross-validated error against the CP values from the tree model as its being pruned."
   ]
  },
  {
   "cell_type": "code",
   "execution_count": 34,
   "metadata": {},
   "outputs": [],
   "source": [
    "# prune the tree \n",
    "pfit<- prune(tree, cp=tree$cptable[which.min(tree$cptable[,\"xerror\"]),\"CP\"])"
   ]
  },
  {
   "cell_type": "code",
   "execution_count": 35,
   "metadata": {},
   "outputs": [
    {
     "name": "stdout",
     "output_type": "stream",
     "text": [
      "\n",
      "Regression tree:\n",
      "rpart(formula = Crime ~ ., data = crime_data, method = \"anova\")\n",
      "\n",
      "Variables actually used in tree construction:\n",
      "character(0)\n",
      "\n",
      "Root node error: 6880928/47 = 146403\n",
      "\n",
      "n= 47 \n",
      "\n",
      "       CP nsplit rel error xerror    xstd\n",
      "1 0.36296      0         1 1.0495 0.26921\n"
     ]
    }
   ],
   "source": [
    "printcp(pfit)"
   ]
  },
  {
   "cell_type": "markdown",
   "metadata": {},
   "source": [
    "Pruning the tree model so that the minimum xerror is used yields a single node with no split which is not very helpful.\n",
    "\n",
    "The takeaways from this exercise is that a single decision tree is not very good at predicting something complicated like crime rate. Even with more splits in the data, the cross-validated error did not decrease which means the variation in the data is not properly accounted for in the model. "
   ]
  },
  {
   "cell_type": "markdown",
   "metadata": {},
   "source": [
    "#### Random Forest Model"
   ]
  },
  {
   "cell_type": "markdown",
   "metadata": {},
   "source": [
    "The random forest algorithm was used with every predictor."
   ]
  },
  {
   "cell_type": "code",
   "execution_count": 59,
   "metadata": {
    "scrolled": false
   },
   "outputs": [
    {
     "name": "stdout",
     "output_type": "stream",
     "text": [
      "Fold Number: 1\n",
      "       IncNodePurity\n",
      "M          91177.621\n",
      "So          8420.084\n",
      "Ed        105862.182\n",
      "Po1       556680.976\n",
      "Po2       513041.557\n",
      "LF        125229.082\n",
      "M.F        67854.648\n",
      "Pop       432049.094\n",
      "NW        253423.385\n",
      "U1         90634.725\n",
      "U2         96753.300\n",
      "Wealth    408001.602\n",
      "Ineq      101494.754\n",
      "Prob      710772.143\n",
      "Time      283103.346\n",
      "Fold Number: 2\n",
      "       IncNodePurity\n",
      "M          183397.08\n",
      "So          20368.92\n",
      "Ed         193300.66\n",
      "Po1       1084819.76\n",
      "Po2        967155.71\n",
      "LF         344948.39\n",
      "M.F        264777.86\n",
      "Pop        320945.27\n",
      "NW         700732.17\n",
      "U1         109479.21\n",
      "U2         134470.84\n",
      "Wealth     530953.04\n",
      "Ineq       193848.47\n",
      "Prob       669296.24\n",
      "Time       178030.68\n",
      "Fold Number: 3\n",
      "       IncNodePurity\n",
      "M          186292.21\n",
      "So          19158.05\n",
      "Ed         145769.43\n",
      "Po1        905368.34\n",
      "Po2        873145.60\n",
      "LF         141066.78\n",
      "M.F        313657.72\n",
      "Pop        215304.27\n",
      "NW         268758.21\n",
      "U1          83337.07\n",
      "U2          91243.93\n",
      "Wealth     238473.49\n",
      "Ineq       142973.55\n",
      "Prob       475601.06\n",
      "Time        94612.52\n",
      "Fold Number: 4\n",
      "       IncNodePurity\n",
      "M           156631.6\n",
      "So           25960.6\n",
      "Ed          165800.3\n",
      "Po1        1167463.3\n",
      "Po2        1114705.9\n",
      "LF          166693.8\n",
      "M.F         196358.4\n",
      "Pop         173793.3\n",
      "NW          345801.2\n",
      "U1          113838.9\n",
      "U2          126682.8\n",
      "Wealth      754509.4\n",
      "Ineq        124079.3\n",
      "Prob        625023.0\n",
      "Time        159722.7\n",
      "Fold Number: 5\n",
      "       IncNodePurity\n",
      "M          151906.26\n",
      "So          15248.45\n",
      "Ed         218176.11\n",
      "Po1       1062797.14\n",
      "Po2       1056350.91\n",
      "LF         246356.17\n",
      "M.F        214079.08\n",
      "Pop        439809.10\n",
      "NW         396089.21\n",
      "U1         121920.63\n",
      "U2         338742.99\n",
      "Wealth     591686.08\n",
      "Ineq       207998.16\n",
      "Prob       594151.59\n",
      "Time       175687.24\n",
      "RMSE: 314.025\n",
      "MAE: 226.957\n"
     ]
    }
   ],
   "source": [
    "# Shuffle data\n",
    "shuffled_df <- crime_data[sample(nrow(crime_data)),]\n",
    "\n",
    "# 5 fold split\n",
    "folds <- cut(seq(1, nrow(crime_data)), breaks=5, labels=FALSE)\n",
    "\n",
    "# For each fold, train and test on RF algorithm\n",
    "resids <- c(1:nrow(crime_data))\n",
    "preds <- c(1:nrow(crime_data))\n",
    "for (i in 1:5) {\n",
    "    test_indices <- which(folds==i, arr.ind=TRUE)\n",
    "    test_data <- as.data.frame(shuffled_df[test_indices, ])\n",
    "    train_data <- as.data.frame(shuffled_df[-test_indices, ])\n",
    "\n",
    "    temp_fit <- randomForest(formula=Crime ~., data=train_data)\n",
    "\n",
    "    # Perform prediction step on test data since model was fit using the training data\n",
    "    preds[test_indices] <- predict(temp_fit, test_data)    \n",
    "    resids[test_indices] <- test_data$Crime - preds[test_indices]\n",
    "    \n",
    "    print(glue(\"Fold Number: {i}\"))\n",
    "    print(importance(temp_fit))\n",
    "}\n",
    "\n",
    "overall_rmse <- round(rmse(resids), 3)\n",
    "overall_mae <- round(mae(resids), 3)\n",
    "\n",
    "print(glue(\"RMSE: {overall_rmse}\"))\n",
    "print(glue(\"MAE: {overall_mae}\")) "
   ]
  },
  {
   "cell_type": "markdown",
   "metadata": {},
   "source": [
    "The RMSE and the MAE are comparable to the model generated in question 9 using PCA and linear regression.\n",
    "\n",
    "Looking at the importance of each predictor for each k-fold step, the predictors that show up most frequently are police protection investment (Po1 and Po2), probability of being imprisoned (prob), and median wealth (Wealth). These make sense since economic stability affects police funding, which in turn probably affects the number of people being imprisoned.\n",
    "\n",
    "One thing I wish that random forest could show is the positive or negative correlation a predictor has with the response variable."
   ]
  },
  {
   "cell_type": "markdown",
   "metadata": {},
   "source": [
    "### Question 10.2\n",
    "\n",
    "**Describe a situation or problem from your job, everyday life, current events, etc., for which a logistic regression model would be appropriate. List some (up to 5) predictors that you might use.**"
   ]
  },
  {
   "cell_type": "markdown",
   "metadata": {},
   "source": [
    "**ANSWER:**\n",
    "\n",
    "A situation where logistic regression might be useful in my everyday life is predicting the probability that I snooze my alarm in the morning before work. The 5 predictors that I might use to model this situation are:\n",
    "\n",
    "1. How many hours did I sleep last night?\n",
    "2. Is it the weekend or a weekday?\n",
    "3. Do I have a meeting I cannot be late for?\n",
    "4. Did I go out drinking last night?\n",
    "5. Was yesterday an especially tiring day?"
   ]
  },
  {
   "cell_type": "markdown",
   "metadata": {},
   "source": [
    "### Question 10.3\n",
    "\n",
    "**1. Using the GermanCredit data set germancredit.txt from http://archive.ics.uci.edu/ml/machine-learning-databases/statlog/german / (description at http://archive.ics.uci.edu/ml/datasets/Statlog+%28German+Credit+Data%29 ), use logistic regression to find a good predictive model for whether credit applicants are good credit risks or not. Show your model (factors used and their coefficients), the software output, and the quality of fit. You can use the glm function in R. To get a logistic regression (logit) model on data where the response is either zero or one, use family=binomial(link=”logit”) in your glm function call.**"
   ]
  },
  {
   "cell_type": "code",
   "execution_count": 71,
   "metadata": {
    "collapsed": true
   },
   "outputs": [],
   "source": [
    "german_data <- read.table('../data//10.3germancreditSummer2018_numeric.txt', sep='', header=FALSE)\n",
    "german_data$V25 <- german_data$V25 - 1"
   ]
  },
  {
   "cell_type": "markdown",
   "metadata": {},
   "source": [
    "Using a 5-fold cross-validation, the logistic regression algorithm was implemented with every predictor. The summary of the model at each fold in the cross-validation step is shown."
   ]
  },
  {
   "cell_type": "code",
   "execution_count": 97,
   "metadata": {
    "scrolled": false
   },
   "outputs": [
    {
     "name": "stdout",
     "output_type": "stream",
     "text": [
      "Fold number 1\n",
      "\n",
      "Call:\n",
      "glm(formula = V25 ~ ., family = binomial(link = \"logit\"), data = train_data)\n",
      "\n",
      "Deviance Residuals: \n",
      "    Min       1Q   Median       3Q      Max  \n",
      "-2.1716  -0.7298  -0.4182   0.8177   2.5710  \n",
      "\n",
      "Coefficients:\n",
      "             Estimate Std. Error z value Pr(>|z|)    \n",
      "(Intercept)  3.570281   1.343636   2.657 0.007880 ** \n",
      "V1          -0.538473   0.078591  -6.852  7.3e-12 ***\n",
      "V2           0.036298   0.009918   3.660 0.000252 ***\n",
      "V3          -0.320909   0.099566  -3.223 0.001268 ** \n",
      "V4           0.003639   0.004372   0.832 0.405160    \n",
      "V5          -0.184017   0.065455  -2.811 0.004933 ** \n",
      "V6          -0.168531   0.086785  -1.942 0.052145 .  \n",
      "V7          -0.246720   0.124642  -1.979 0.047768 *  \n",
      "V8          -0.009899   0.091469  -0.108 0.913817    \n",
      "V9           0.148272   0.109908   1.349 0.177321    \n",
      "V10         -0.018791   0.009674  -1.942 0.052083 .  \n",
      "V11         -0.333398   0.125977  -2.646 0.008133 ** \n",
      "V12          0.172163   0.193264   0.891 0.373027    \n",
      "V13          0.039297   0.268766   0.146 0.883754    \n",
      "V14         -0.221315   0.211779  -1.045 0.296009    \n",
      "V15         -1.366569   0.722074  -1.893 0.058416 .  \n",
      "V16          0.606539   0.213502   2.841 0.004499 ** \n",
      "V17         -0.955346   0.377364  -2.532 0.011353 *  \n",
      "V18          1.090891   0.464125   2.350 0.018752 *  \n",
      "V19          1.526622   0.606277   2.518 0.011801 *  \n",
      "V20          0.267503   0.408107   0.655 0.512163    \n",
      "V21         -0.174579   0.367848  -0.475 0.635075    \n",
      "V22         -0.807382   0.658500  -1.226 0.220164    \n",
      "V23         -0.091596   0.358584  -0.255 0.798385    \n",
      "V24         -0.113003   0.291557  -0.388 0.698323    \n",
      "---\n",
      "Signif. codes:  0 ‘***’ 0.001 ‘**’ 0.01 ‘*’ 0.05 ‘.’ 0.1 ‘ ’ 1\n",
      "\n",
      "(Dispersion parameter for binomial family taken to be 1)\n",
      "\n",
      "    Null deviance: 984.07  on 799  degrees of freedom\n",
      "Residual deviance: 762.13  on 775  degrees of freedom\n",
      "AIC: 812.13\n",
      "\n",
      "Number of Fisher Scoring iterations: 5\n",
      "\n",
      "Fold number 2\n",
      "\n",
      "Call:\n",
      "glm(formula = V25 ~ ., family = binomial(link = \"logit\"), data = train_data)\n",
      "\n",
      "Deviance Residuals: \n",
      "    Min       1Q   Median       3Q      Max  \n",
      "-2.1186  -0.6809  -0.3879   0.7471   2.6178  \n",
      "\n",
      "Coefficients:\n",
      "             Estimate Std. Error z value Pr(>|z|)    \n",
      "(Intercept)  2.824790   1.324471   2.133 0.032944 *  \n",
      "V1          -0.672924   0.083585  -8.051 8.23e-16 ***\n",
      "V2           0.038095   0.009772   3.898 9.68e-05 ***\n",
      "V3          -0.428717   0.096960  -4.422 9.80e-06 ***\n",
      "V4           0.002328   0.004445   0.524 0.600440    \n",
      "V5          -0.245916   0.068246  -3.603 0.000314 ***\n",
      "V6          -0.098075   0.084987  -1.154 0.248500    \n",
      "V7          -0.219727   0.129357  -1.699 0.089392 .  \n",
      "V8           0.027609   0.094224   0.293 0.769511    \n",
      "V9           0.141688   0.112265   1.262 0.206916    \n",
      "V10         -0.001783   0.009852  -0.181 0.856353    \n",
      "V11         -0.312250   0.126303  -2.472 0.013427 *  \n",
      "V12          0.131410   0.180447   0.728 0.466462    \n",
      "V13          0.136850   0.264349   0.518 0.604675    \n",
      "V14         -0.349757   0.218278  -1.602 0.109079    \n",
      "V15         -1.181958   0.668007  -1.769 0.076830 .  \n",
      "V16          0.607704   0.218717   2.778 0.005461 ** \n",
      "V17         -0.733068   0.358053  -2.047 0.040622 *  \n",
      "V18          1.149912   0.455245   2.526 0.011540 *  \n",
      "V19          1.272696   0.645370   1.972 0.048605 *  \n",
      "V20          0.472985   0.406256   1.164 0.244322    \n",
      "V21         -0.090798   0.356498  -0.255 0.798960    \n",
      "V22         -0.316872   0.678792  -0.467 0.640630    \n",
      "V23         -0.055578   0.353234  -0.157 0.874976    \n",
      "V24          0.005350   0.289491   0.018 0.985255    \n",
      "---\n",
      "Signif. codes:  0 ‘***’ 0.001 ‘**’ 0.01 ‘*’ 0.05 ‘.’ 0.1 ‘ ’ 1\n",
      "\n",
      "(Dispersion parameter for binomial family taken to be 1)\n",
      "\n",
      "    Null deviance: 972.25  on 799  degrees of freedom\n",
      "Residual deviance: 723.60  on 775  degrees of freedom\n",
      "AIC: 773.6\n",
      "\n",
      "Number of Fisher Scoring iterations: 5\n",
      "\n",
      "Fold number 3\n",
      "\n",
      "Call:\n",
      "glm(formula = V25 ~ ., family = binomial(link = \"logit\"), data = train_data)\n",
      "\n",
      "Deviance Residuals: \n",
      "    Min       1Q   Median       3Q      Max  \n",
      "-2.2406  -0.6978  -0.4007   0.7375   2.6816  \n",
      "\n",
      "Coefficients:\n",
      "             Estimate Std. Error z value Pr(>|z|)    \n",
      "(Intercept)  3.182748   1.288165   2.471  0.01348 *  \n",
      "V1          -0.598023   0.080007  -7.475 7.74e-14 ***\n",
      "V2           0.039576   0.009979   3.966 7.31e-05 ***\n",
      "V3          -0.367563   0.096968  -3.791  0.00015 ***\n",
      "V4           0.004779   0.004347   1.099  0.27166    \n",
      "V5          -0.231610   0.069359  -3.339  0.00084 ***\n",
      "V6          -0.146578   0.087138  -1.682  0.09254 .  \n",
      "V7          -0.215977   0.133412  -1.619  0.10548    \n",
      "V8          -0.005577   0.092102  -0.061  0.95171    \n",
      "V9           0.106497   0.114224   0.932  0.35116    \n",
      "V10         -0.008031   0.009893  -0.812  0.41695    \n",
      "V11         -0.273305   0.125516  -2.177  0.02945 *  \n",
      "V12          0.265954   0.181115   1.468  0.14199    \n",
      "V13          0.105416   0.268319   0.393  0.69441    \n",
      "V14         -0.294513   0.221854  -1.328  0.18434    \n",
      "V15         -1.176222   0.633404  -1.857  0.06331 .  \n",
      "V16          0.615190   0.219764   2.799  0.00512 ** \n",
      "V17         -1.339983   0.422687  -3.170  0.00152 ** \n",
      "V18          1.056840   0.460653   2.294  0.02178 *  \n",
      "V19          1.476987   0.627844   2.352  0.01865 *  \n",
      "V20         -0.094189   0.422387  -0.223  0.82354    \n",
      "V21         -0.356566   0.369183  -0.966  0.33413    \n",
      "V22         -0.965279   0.664249  -1.453  0.14617    \n",
      "V23         -0.148466   0.371885  -0.399  0.68973    \n",
      "V24         -0.177599   0.303494  -0.585  0.55843    \n",
      "---\n",
      "Signif. codes:  0 ‘***’ 0.001 ‘**’ 0.01 ‘*’ 0.05 ‘.’ 0.1 ‘ ’ 1\n",
      "\n",
      "(Dispersion parameter for binomial family taken to be 1)\n",
      "\n",
      "    Null deviance: 972.25  on 799  degrees of freedom\n",
      "Residual deviance: 733.26  on 775  degrees of freedom\n",
      "AIC: 783.26\n",
      "\n",
      "Number of Fisher Scoring iterations: 5\n",
      "\n",
      "Fold number 4\n",
      "\n",
      "Call:\n",
      "glm(formula = V25 ~ ., family = binomial(link = \"logit\"), data = train_data)\n",
      "\n",
      "Deviance Residuals: \n",
      "    Min       1Q   Median       3Q      Max  \n",
      "-2.1284  -0.7160  -0.4293   0.7784   2.5806  \n",
      "\n",
      "Coefficients:\n",
      "             Estimate Std. Error z value Pr(>|z|)    \n",
      "(Intercept)  3.007958   1.334627   2.254 0.024210 *  \n",
      "V1          -0.535891   0.080714  -6.639 3.15e-11 ***\n",
      "V2           0.031192   0.009310   3.350 0.000807 ***\n",
      "V3          -0.401864   0.097910  -4.104 4.05e-05 ***\n",
      "V4           0.004642   0.004089   1.135 0.256218    \n",
      "V5          -0.206121   0.065974  -3.124 0.001783 ** \n",
      "V6          -0.158269   0.084010  -1.884 0.059575 .  \n",
      "V7          -0.143882   0.130888  -1.099 0.271650    \n",
      "V8           0.016962   0.092432   0.184 0.854396    \n",
      "V9           0.193243   0.111983   1.726 0.084412 .  \n",
      "V10         -0.008548   0.009222  -0.927 0.353979    \n",
      "V11         -0.308757   0.122110  -2.529 0.011455 *  \n",
      "V12          0.261923   0.176513   1.484 0.137842    \n",
      "V13          0.013331   0.256113   0.052 0.958486    \n",
      "V14         -0.157867   0.211424  -0.747 0.455253    \n",
      "V15         -1.690419   0.691375  -2.445 0.014485 *  \n",
      "V16          0.679038   0.218811   3.103 0.001914 ** \n",
      "V17         -0.865764   0.379802  -2.280 0.022637 *  \n",
      "V18          0.670760   0.464135   1.445 0.148406    \n",
      "V19          1.134520   0.621714   1.825 0.068027 .  \n",
      "V20          0.568704   0.393079   1.447 0.147955    \n",
      "V21          0.070850   0.348357   0.203 0.838835    \n",
      "V22         -0.302046   0.679323  -0.445 0.656588    \n",
      "V23          0.119608   0.351353   0.340 0.733539    \n",
      "V24          0.031114   0.288309   0.108 0.914060    \n",
      "---\n",
      "Signif. codes:  0 ‘***’ 0.001 ‘**’ 0.01 ‘*’ 0.05 ‘.’ 0.1 ‘ ’ 1\n",
      "\n",
      "(Dispersion parameter for binomial family taken to be 1)\n",
      "\n",
      "    Null deviance: 963.44  on 799  degrees of freedom\n",
      "Residual deviance: 753.12  on 775  degrees of freedom\n",
      "AIC: 803.12\n",
      "\n",
      "Number of Fisher Scoring iterations: 5\n",
      "\n",
      "Fold number 5\n",
      "\n",
      "Call:\n",
      "glm(formula = V25 ~ ., family = binomial(link = \"logit\"), data = train_data)\n",
      "\n",
      "Deviance Residuals: \n",
      "    Min       1Q   Median       3Q      Max  \n",
      "-2.2420  -0.7161  -0.4024   0.7628   2.6580  \n",
      "\n",
      "Coefficients:\n",
      "             Estimate Std. Error z value Pr(>|z|)    \n",
      "(Intercept)  3.635328   1.324215   2.745 0.006046 ** \n",
      "V1          -0.552613   0.077867  -7.097 1.28e-12 ***\n",
      "V2           0.028769   0.009507   3.026 0.002477 ** \n",
      "V3          -0.355426   0.099108  -3.586 0.000335 ***\n",
      "V4           0.005916   0.004179   1.416 0.156866    \n",
      "V5          -0.264647   0.066250  -3.995 6.48e-05 ***\n",
      "V6          -0.166318   0.083577  -1.990 0.046591 *  \n",
      "V7          -0.230813   0.129834  -1.778 0.075444 .  \n",
      "V8           0.016800   0.091208   0.184 0.853861    \n",
      "V9           0.259941   0.110766   2.347 0.018938 *  \n",
      "V10         -0.009812   0.009203  -1.066 0.286345    \n",
      "V11         -0.349849   0.123767  -2.827 0.004703 ** \n",
      "V12          0.203383   0.182256   1.116 0.264457    \n",
      "V13          0.189689   0.263675   0.719 0.471891    \n",
      "V14         -0.377618   0.216551  -1.744 0.081197 .  \n",
      "V15         -1.861453   0.694944  -2.679 0.007394 ** \n",
      "V16          0.773128   0.220812   3.501 0.000463 ***\n",
      "V17         -0.908548   0.369684  -2.458 0.013986 *  \n",
      "V18          1.183299   0.489472   2.418 0.015627 *  \n",
      "V19          1.365786   0.638255   2.140 0.032365 *  \n",
      "V20          0.379289   0.402723   0.942 0.346289    \n",
      "V21         -0.136162   0.352023  -0.387 0.698906    \n",
      "V22         -0.671381   0.711973  -0.943 0.345688    \n",
      "V23         -0.130295   0.362669  -0.359 0.719396    \n",
      "V24         -0.013896   0.283952  -0.049 0.960970    \n",
      "---\n",
      "Signif. codes:  0 ‘***’ 0.001 ‘**’ 0.01 ‘*’ 0.05 ‘.’ 0.1 ‘ ’ 1\n",
      "\n",
      "(Dispersion parameter for binomial family taken to be 1)\n",
      "\n",
      "    Null deviance: 993.74  on 799  degrees of freedom\n",
      "Residual deviance: 748.09  on 775  degrees of freedom\n",
      "AIC: 798.09\n",
      "\n",
      "Number of Fisher Scoring iterations: 5\n",
      "\n"
     ]
    }
   ],
   "source": [
    "# Shuffle data\n",
    "shuffled_df <- german_data[sample(nrow(german_data)),]\n",
    "\n",
    "# 5 fold split\n",
    "folds <- cut(seq(1, nrow(german_data)), breaks=5, labels=FALSE)\n",
    "\n",
    "# For each fold, train and test on Linear Regression algorithm\n",
    "resids <- c(1:nrow(german_data))\n",
    "preds <- c(1:nrow(german_data))\n",
    "for (i in 1:5) {\n",
    "    test_indices <- which(folds==i, arr.ind=TRUE)\n",
    "    test_data <- as.data.frame(shuffled_df[test_indices, ])\n",
    "    train_data <- as.data.frame(shuffled_df[-test_indices, ])\n",
    "\n",
    "    temp_fit <- glm(V25 ~., family=binomial(link='logit'), data=train_data)\n",
    "\n",
    "    # Perform prediction step on test data since model was fit using the training data\n",
    "    preds[test_indices] <- predict(temp_fit, newdata=test_data, type='response')\n",
    "    print(glue(\"Fold number {i}\"))\n",
    "    print(summary(temp_fit))\n",
    "}\n",
    "\n",
    "binary_preds <- ifelse(preds > 0.5,1,0)"
   ]
  },
  {
   "cell_type": "markdown",
   "metadata": {},
   "source": [
    "After the training and validation step, the final model using all available data is built."
   ]
  },
  {
   "cell_type": "code",
   "execution_count": 109,
   "metadata": {},
   "outputs": [
    {
     "name": "stdout",
     "output_type": "stream",
     "text": [
      "\n",
      "Call:\n",
      "glm(formula = V25 ~ ., family = binomial(link = \"logit\"), data = german_data)\n",
      "\n",
      "Deviance Residuals: \n",
      "    Min       1Q   Median       3Q      Max  \n",
      "-2.1675  -0.7082  -0.4129   0.7890   2.6220  \n",
      "\n",
      "Coefficients:\n",
      "             Estimate Std. Error z value Pr(>|z|)    \n",
      "(Intercept)  3.231152   1.171518   2.758 0.005814 ** \n",
      "V1          -0.575461   0.071065  -8.098 5.60e-16 ***\n",
      "V2           0.034089   0.008587   3.970 7.20e-05 ***\n",
      "V3          -0.373500   0.086952  -4.295 1.74e-05 ***\n",
      "V4           0.004294   0.003801   1.130 0.258535    \n",
      "V5          -0.225906   0.059604  -3.790 0.000151 ***\n",
      "V6          -0.145873   0.075689  -1.927 0.053945 .  \n",
      "V7          -0.211760   0.114816  -1.844 0.065132 .  \n",
      "V8           0.011961   0.081916   0.146 0.883906    \n",
      "V9           0.167814   0.099152   1.692 0.090552 .  \n",
      "V10         -0.009432   0.008478  -1.112 0.265925    \n",
      "V11         -0.313985   0.110500  -2.841 0.004490 ** \n",
      "V12          0.208317   0.161724   1.288 0.197710    \n",
      "V13          0.084091   0.234396   0.359 0.719778    \n",
      "V14         -0.271055   0.191837  -1.413 0.157674    \n",
      "V15         -1.442590   0.604540  -2.386 0.017021 *  \n",
      "V16          0.649688   0.193702   3.354 0.000796 ***\n",
      "V17         -0.950668   0.336940  -2.821 0.004780 ** \n",
      "V18          1.019901   0.414228   2.462 0.013810 *  \n",
      "V19          1.337142   0.556082   2.405 0.016191 *  \n",
      "V20          0.318564   0.359882   0.885 0.376053    \n",
      "V21         -0.132711   0.317574  -0.418 0.676028    \n",
      "V22         -0.594921   0.602898  -0.987 0.323756    \n",
      "V23         -0.063827   0.319117  -0.200 0.841473    \n",
      "V24         -0.050021   0.258695  -0.193 0.846678    \n",
      "---\n",
      "Signif. codes:  0 ‘***’ 0.001 ‘**’ 0.01 ‘*’ 0.05 ‘.’ 0.1 ‘ ’ 1\n",
      "\n",
      "(Dispersion parameter for binomial family taken to be 1)\n",
      "\n",
      "    Null deviance: 1221.73  on 999  degrees of freedom\n",
      "Residual deviance:  935.33  on 975  degrees of freedom\n",
      "AIC: 985.33\n",
      "\n",
      "Number of Fisher Scoring iterations: 5\n",
      "\n"
     ]
    }
   ],
   "source": [
    "final_model <- glm(V25 ~., family=binomial(link='logit'), data=german_data)\n",
    "\n",
    "# Perform prediction step on test data since model was fit using the training data\n",
    "final_preds <- predict(final_model, newdata=german_data, type='response')\n",
    "print(summary(final_model))\n",
    "\n",
    "binary_final_preds <- ifelse(final_preds > 0.5,1,0)"
   ]
  },
  {
   "cell_type": "code",
   "execution_count": 110,
   "metadata": {},
   "outputs": [
    {
     "data": {
      "text/plain": [
       "Confusion Matrix and Statistics\n",
       "\n",
       "          Reference\n",
       "Prediction   0   1\n",
       "         0 629 144\n",
       "         1  71 156\n",
       "                                          \n",
       "               Accuracy : 0.785           \n",
       "                 95% CI : (0.7582, 0.8101)\n",
       "    No Information Rate : 0.7             \n",
       "    P-Value [Acc > NIR] : 9.063e-10       \n",
       "                                          \n",
       "                  Kappa : 0.4498          \n",
       " Mcnemar's Test P-Value : 9.091e-07       \n",
       "                                          \n",
       "            Sensitivity : 0.8986          \n",
       "            Specificity : 0.5200          \n",
       "         Pos Pred Value : 0.8137          \n",
       "         Neg Pred Value : 0.6872          \n",
       "             Prevalence : 0.7000          \n",
       "         Detection Rate : 0.6290          \n",
       "   Detection Prevalence : 0.7730          \n",
       "      Balanced Accuracy : 0.7093          \n",
       "                                          \n",
       "       'Positive' Class : 0               \n",
       "                                          "
      ]
     },
     "metadata": {},
     "output_type": "display_data"
    }
   ],
   "source": [
    "confusionMatrix(data = as.factor(binary_final_preds), as.factor(german_data$V25))"
   ]
  },
  {
   "cell_type": "markdown",
   "metadata": {},
   "source": [
    "The overall accuracy of the model is 78.5% and the most important predictors seem to be status of existing checking account, credit history, and credit amount."
   ]
  },
  {
   "cell_type": "markdown",
   "metadata": {},
   "source": [
    "**2. Because the model gives a result between 0 and 1, it requires setting a threshold probability to separate between “good” and “bad” answers. In this data set, they estimate that incorrectly identifying a bad customer as good, is 5 times worse than incorrectly classifying a good customer as bad. Determine a good threshold probability based on your model.**"
   ]
  },
  {
   "cell_type": "markdown",
   "metadata": {},
   "source": [
    "Based on the confusion matrix above, there are 71 data points being misclassified as \"bad\" credit risks when they're actually \"good\" credit risks and 144 data points being misclassified as \"good\" credit risks when they're actually \"bad\" credit risks. So, the cost for this model becomes:\n",
    "\n",
    "Cost = 71 x 1 + 144 x 5 = 791\n",
    "\n",
    "I want to minimize this by removing as many false positives as possible without putting too many people into the false negative category. **Its important to note that the positive class is 0 in this case. This means I need a lower threshold value in order for a person to be classified as a \"good\" credit risk. If the positive class was 1 then I would need a higher threshold value.**"
   ]
  },
  {
   "cell_type": "code",
   "execution_count": 115,
   "metadata": {},
   "outputs": [
    {
     "data": {
      "text/plain": [
       "Confusion Matrix and Statistics\n",
       "\n",
       "          Reference\n",
       "Prediction   0   1\n",
       "         0 412  45\n",
       "         1 288 255\n",
       "                                          \n",
       "               Accuracy : 0.667           \n",
       "                 95% CI : (0.6368, 0.6962)\n",
       "    No Information Rate : 0.7             \n",
       "    P-Value [Acc > NIR] : 0.9891          \n",
       "                                          \n",
       "                  Kappa : 0.3561          \n",
       " Mcnemar's Test P-Value : <2e-16          \n",
       "                                          \n",
       "            Sensitivity : 0.5886          \n",
       "            Specificity : 0.8500          \n",
       "         Pos Pred Value : 0.9015          \n",
       "         Neg Pred Value : 0.4696          \n",
       "             Prevalence : 0.7000          \n",
       "         Detection Rate : 0.4120          \n",
       "   Detection Prevalence : 0.4570          \n",
       "      Balanced Accuracy : 0.7193          \n",
       "                                          \n",
       "       'Positive' Class : 0               \n",
       "                                          "
      ]
     },
     "metadata": {},
     "output_type": "display_data"
    }
   ],
   "source": [
    "new_preds <- ifelse(final_preds > 0.2,1,0)\n",
    "confusionMatrix(data = as.factor(new_preds), as.factor(german_data$V25))"
   ]
  },
  {
   "cell_type": "raw",
   "metadata": {},
   "source": [
    "With a threshold of 0.2, I got 45 false positives and 288 false negatives for a cost of 513, which is more than 35% lower than the cost at a 0.5 threshold. However, its important to note that the number of true positives goes down *significantly* from 629 to 412 users. This is critical because if I keep increasing the threshold lower and lower, then the cost may decrease but I may end up having no users that are correctly predicted to be a \"good\" credit risk."
   ]
  }
 ],
 "metadata": {
  "anaconda-cloud": {},
  "kernelspec": {
   "display_name": "R",
   "language": "R",
   "name": "ir"
  },
  "language_info": {
   "codemirror_mode": "r",
   "file_extension": ".r",
   "mimetype": "text/x-r-source",
   "name": "R",
   "pygments_lexer": "r",
   "version": "3.5.0"
  }
 },
 "nbformat": 4,
 "nbformat_minor": 2
}
