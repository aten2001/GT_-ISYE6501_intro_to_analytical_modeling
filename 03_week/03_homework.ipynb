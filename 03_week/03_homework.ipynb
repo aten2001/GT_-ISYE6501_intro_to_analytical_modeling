{
 "cells": [
  {
   "cell_type": "markdown",
   "metadata": {},
   "source": [
    "## Library Imports"
   ]
  },
  {
   "cell_type": "code",
   "execution_count": 2,
   "metadata": {},
   "outputs": [
    {
     "name": "stderr",
     "output_type": "stream",
     "text": [
      "Loading required package: lattice\n"
     ]
    }
   ],
   "source": [
    "library(glue)\n",
    "library(DAAG)\n",
    "\n",
    "options(repr.plot.width=10, repr.plot.height=5)\n",
    "\n",
    "set.seed(20)\n",
    "options(warn=-1)"
   ]
  },
  {
   "cell_type": "markdown",
   "metadata": {},
   "source": [
    "### Question 7.1\n",
    "\n",
    "**Describe a situation or problem from your job, everyday life, current events, etc., for which exponential\n",
    "smoothing would be appropriate. What data would you need? Would you expect the value of α (the\n",
    "first smoothing parameter) to be closer to 0 or 1, and why?**"
   ]
  },
  {
   "cell_type": "markdown",
   "metadata": {},
   "source": [
    "**ANSWER:**\n",
    "The first that comes to mind when thinking of exponential smoothing and its uses for short-term forecasting is the stock market. Nowadays, there are numerous firms that try to use machine learning/AI to predict the prices of stocks in order to make lots of profit.\n",
    "\n",
    "The data I would need is stock price data in minute or maybe even second intervals. Seeing as how volatile stock prices are, I would say the alpha value would be near 1 so a lot of weight would be placed on the true current observation and little weight on the previous observation."
   ]
  },
  {
   "cell_type": "markdown",
   "metadata": {},
   "source": [
    "### Question 7.2\n",
    "**Using the 20 years of daily high temperature data for Atlanta (July through October) from Question 6.2\n",
    "(file temps.txt), build and use an exponential smoothing model to help make a judgment of whether\n",
    "the unofficial end of summer has gotten later over the 20 years. (Part of the point of this assignment is\n",
    "for you to think about how you might use exponential smoothing to answer this question. Feel free to\n",
    "combine it with other models if you’d like to. There’s certainly more than one reasonable approach.)\n",
    "Note: in R, you can use either HoltWinters (simpler to use) or the smooth package’s es function\n",
    "(harder to use, but more general). If you use es, the Holt-Winters model uses model=”AAM” in the\n",
    "function call (the first and second constants are used “A”dditively, and the third (seasonality) is used\n",
    "“M”ultiplicatively; the documentation doesn’t make that clear).**"
   ]
  },
  {
   "cell_type": "code",
   "execution_count": 3,
   "metadata": {
    "collapsed": true
   },
   "outputs": [],
   "source": [
    "temp_data <- read.table('../data/7.2tempsSummer2018.txt', sep='', header=TRUE)\n",
    "\n",
    "temp_data$datetime <- as.Date(temp_data$DAY, format = \"%d-%b\")"
   ]
  },
  {
   "cell_type": "markdown",
   "metadata": {},
   "source": [
    "First, I transformed the data into a time series data frame with a frequency of 123 since there are 123 days in the original data set."
   ]
  },
  {
   "cell_type": "code",
   "execution_count": 44,
   "metadata": {
    "collapsed": true
   },
   "outputs": [],
   "source": [
    "temp_ts  <- ts(as.vector(temp_data[,c(2:21)]), start=1996, frequency=123)"
   ]
  },
  {
   "cell_type": "markdown",
   "metadata": {},
   "source": [
    "The transformed data set was then inputted into the Holt Winters function and the smoothed data was plotted as a function of time.\n",
    "\n",
    "**The plot is in the appendix.**"
   ]
  },
  {
   "cell_type": "code",
   "execution_count": 126,
   "metadata": {
    "collapsed": true
   },
   "outputs": [],
   "source": [
    "hw <- HoltWinters(temp_ts)\n",
    "plot.ts(fitted(hw)[,1], col=3, ylab=\"Temperature (F)\", xlab=\"Year\")"
   ]
  },
  {
   "cell_type": "markdown",
   "metadata": {},
   "source": [
    "The resulting seasonal factors were transformed into a matrix and used in the CUSUM approach to find the date at which summer ended."
   ]
  },
  {
   "cell_type": "code",
   "execution_count": 38,
   "metadata": {
    "collapsed": true
   },
   "outputs": [],
   "source": [
    "m <- matrix(hw$fitted[,4], ncol=123)"
   ]
  },
  {
   "cell_type": "markdown",
   "metadata": {},
   "source": [
    "Custom CUSUM function that I coded in R is below."
   ]
  },
  {
   "cell_type": "code",
   "execution_count": 109,
   "metadata": {
    "collapsed": true
   },
   "outputs": [],
   "source": [
    "# cusum_approach takes in the data of interest, threshold (T), critical value (C), mean (mu), \n",
    "# and a boolean value for is_inc.\n",
    "# The is_inc determines whether the change that is being detected is an increase or decrease.\n",
    "cusum_approach <- function(data, T, C, mu, is_inc) {\n",
    "    S_t <- 0\n",
    "    end_index <- length(data)\n",
    "    \n",
    "    if (isTRUE(is_inc)) {\n",
    "        for (i in 1:length(data)) {\n",
    "            S_t <- S_t - mu + data[i] - C\n",
    "            # Check if the S_t is less than 0, if it is then it should be \n",
    "            # reset to 0\n",
    "            if (S_t <= 0) {\n",
    "                S_t <- 0\n",
    "                }\n",
    "            # Check if S_t is greater than the threshold, if it is then \n",
    "            # the loop ends\n",
    "            if (S_t > T) {\n",
    "                end_index <- i\n",
    "                break\n",
    "            }\n",
    "        }\n",
    "    }\n",
    "\n",
    "    else {\n",
    "        for (i in 1:length(data)) {\n",
    "            S_t <- S_t + mu - data[i] - C\n",
    "            # Check if the S_t is less than 0, if it is then it should be \n",
    "            # reset to 0\n",
    "            if (S_t <= 0) {\n",
    "                S_t <- 0\n",
    "                }\n",
    "            # Check if S_t is greater than the threshold, if it is then \n",
    "            # the loop ends\n",
    "            if (S_t > T) {\n",
    "                end_index <- i\n",
    "                break\n",
    "            }\n",
    "        }\n",
    "    }\n",
    "    return(end_index)\n",
    "}"
   ]
  },
  {
   "cell_type": "markdown",
   "metadata": {},
   "source": [
    "I tested a variety of C and T values and this combination of C = 1 and T = 25 seemed to give the most reasonable summer end dates."
   ]
  },
  {
   "cell_type": "code",
   "execution_count": 119,
   "metadata": {},
   "outputs": [
    {
     "name": "stdout",
     "output_type": "stream",
     "text": [
      "Summer ends on 7-Jul in the year 1996\n",
      "Summer ends on 7-Jul in the year 1997\n",
      "Summer ends on 7-Jul in the year 1998\n",
      "Summer ends on 6-Jul in the year 1999\n",
      "Summer ends on 26-Jul in the year 2000\n",
      "Summer ends on 13-Jul in the year 2001\n",
      "Summer ends on 6-Jul in the year 2002\n",
      "Summer ends on 3-Sep in the year 2003\n",
      "Summer ends on 26-Jul in the year 2004\n",
      "Summer ends on 8-Aug in the year 2005\n",
      "Summer ends on 13-Jul in the year 2006\n",
      "Summer ends on 13-Jul in the year 2007\n",
      "Summer ends on 12-Jul in the year 2008\n",
      "Summer ends on 1-Aug in the year 2009\n",
      "Summer ends on 6-Jul in the year 2010\n",
      "Summer ends on 6-Jul in the year 2011\n",
      "Summer ends on 6-Jul in the year 2012\n",
      "Summer ends on 27-Aug in the year 2013\n",
      "Summer ends on 14-Aug in the year 2014\n"
     ]
    }
   ],
   "source": [
    "C <- 1\n",
    "T <- 20\n",
    "\n",
    "for (i in 1:nrow(m)) {\n",
    "    year_data <- m[i,]\n",
    "\n",
    "    mu <- mean(year_data)\n",
    "    end_index <- cusum_approach(year_data, T, C, mu, is_inc=FALSE)\n",
    "    \n",
    "    summer_end_date <- temp_data[end_index,1]\n",
    "    year <- substr(colnames(temp_ts)[i], 2, 5)\n",
    "    print(glue(\"Summer ends on {summer_end_date} in the year {year}\"))    \n",
    "}"
   ]
  },
  {
   "cell_type": "markdown",
   "metadata": {},
   "source": [
    "For the same C and T values, I ran the original data through the CUSUM approach to compare the summer end dates before and after exponential smoothing."
   ]
  },
  {
   "cell_type": "code",
   "execution_count": 121,
   "metadata": {},
   "outputs": [
    {
     "name": "stdout",
     "output_type": "stream",
     "text": [
      "Summer ends on 21-Sep in the year 1996\n",
      "Summer ends on 25-Sep in the year 1997\n",
      "Summer ends on 30-Sep in the year 1998\n",
      "Summer ends on 20-Sep in the year 1999\n",
      "Summer ends on 6-Sep in the year 2000\n",
      "Summer ends on 25-Sep in the year 2001\n",
      "Summer ends on 25-Sep in the year 2002\n",
      "Summer ends on 29-Sep in the year 2003\n",
      "Summer ends on 19-Sep in the year 2004\n",
      "Summer ends on 7-Oct in the year 2005\n",
      "Summer ends on 21-Sep in the year 2006\n",
      "Summer ends on 17-Sep in the year 2007\n",
      "Summer ends on 21-Sep in the year 2008\n",
      "Summer ends on 2-Oct in the year 2009\n",
      "Summer ends on 28-Sep in the year 2010\n",
      "Summer ends on 7-Sep in the year 2011\n",
      "Summer ends on 30-Sep in the year 2012\n",
      "Summer ends on 16-Aug in the year 2013\n",
      "Summer ends on 26-Sep in the year 2014\n",
      "Summer ends on 16-Sep in the year 2015\n"
     ]
    }
   ],
   "source": [
    "for (i in 2:21) {\n",
    "    # Initialize the mean (mu)\n",
    "    mu <- mean(temp_data[,i])\n",
    "\n",
    "    # Get the index at which the threshold is passed.\n",
    "    end_index <- cusum_approach(temp_data[,i], T, C, mu, is_inc=FALSE)\n",
    "\n",
    "    summer_end_date <- temp_data[end_index,1]\n",
    "    year <- substr(colnames(temp_data)[i], 2, 5)\n",
    "    print(glue(\"Summer ends on {summer_end_date} in the year {year}\"))\n",
    "    \n",
    "    }"
   ]
  },
  {
   "cell_type": "markdown",
   "metadata": {},
   "source": [
    "The exponential smoothing provided summer end dates that are much earlier than the end dates estimated on the original data set. This was actually counter intuitive for me. I expected the end dates to actually be later after exponential smoothing because the threshold would be harder to surpass if the data was more stable. However, the opposite was true. My hypothesis as to why this happened is that the volatility in the temperature data causes the S_t value to fluctuate a lot. So, the S_t value can come close to the threshold value but if the next day a sudden drop in temperature happened then S_t could now be very far from the threshold. The exponential smoothing prevents such sudden changes in S_t by smoothing out the temperature data."
   ]
  },
  {
   "cell_type": "markdown",
   "metadata": {},
   "source": [
    "### Question 8.1\n",
    "**Describe a situation or problem from your job, everyday life, current events, etc., for which a linear\n",
    "regression model would be appropriate. List some (up to 5) predictors that you might use.**"
   ]
  },
  {
   "cell_type": "markdown",
   "metadata": {},
   "source": [
    "**ANSWER:**\n",
    "\n",
    "Linear regression is useful when predicting house prices. Especially in the Bay Area where the housing market is so high, its important to be able to accurately predict the housing price so that you don't overpay on an already ridiculously highly priced house. \n",
    "\n",
    "5 predictors to use:\n",
    "1. Square footage\n",
    "2. Distance of bus stop or subway stations\n",
    "3. Year it was built\n",
    "4. Number of bedrooms\n",
    "5. Number of bathrooms"
   ]
  },
  {
   "cell_type": "markdown",
   "metadata": {},
   "source": [
    "### Question 8.2\n",
    "**Using crime data from http://www.statsci.org/data/general/uscrime.txt (file uscrime.txt,\n",
    "description at http://www.statsci.org/data/general/uscrime.html ), use regression (a useful R function is\n",
    "lm or glm) to predict the observed crime rate in a city with the following data:**\n",
    "\n",
    "- M = 14.0\n",
    "- So = 0\n",
    "- Ed = 10.0\n",
    "- Po1 = 12.0\n",
    "- Po2 = 15.5\n",
    "- LF = 0.640\n",
    "- M.F = 94.0\n",
    "- Pop = 150\n",
    "- NW = 1.1\n",
    "- U1 = 0.120\n",
    "- U2 = 3.6\n",
    "- Wealth = 3200\n",
    "- Ineq = 20.1\n",
    "- Prob = 0.04\n",
    "- Time = 39.0\n",
    "\n",
    "**Show your model (factors used and their coefficients), the software output, and the quality of fit.\n",
    "Note that because there are only 47 data points and 15 predictors, you’ll probably notice some\n",
    "overfitting. We’ll see ways of dealing with this sort of problem later in the course.**"
   ]
  },
  {
   "cell_type": "code",
   "execution_count": 8,
   "metadata": {
    "collapsed": true
   },
   "outputs": [],
   "source": [
    "crime_data <- read.table('../data/5.1uscrimeSummer2018.txt', sep='', header=TRUE)"
   ]
  },
  {
   "cell_type": "code",
   "execution_count": 9,
   "metadata": {
    "collapsed": true
   },
   "outputs": [],
   "source": [
    "M  <-  14.0\n",
    "So <- 0\n",
    "Ed <- 10.0\n",
    "Po1 <- 12.0\n",
    "Po2 <- 15.5\n",
    "LF <- 0.640\n",
    "M.F <- 94.0\n",
    "Pop <- 150\n",
    "NW <- 1.1\n",
    "U1 <- 0.120\n",
    "U2 <- 3.6\n",
    "Wealth <- 3200\n",
    "Ineq <- 20.1\n",
    "Prob <- 0.04\n",
    "Time <- 39.0\n",
    "\n",
    "sample_data <- data.frame(M,So,Ed,Po1,Po2,LF,M.F,Pop,NW,U1,U2,Wealth,Ineq,Prob,Time)"
   ]
  },
  {
   "cell_type": "markdown",
   "metadata": {},
   "source": [
    "Use cross-validation to determine the root mean squared error (RMSE) and the mean absolute error (MAE) for each fold in the cross-validation step."
   ]
  },
  {
   "cell_type": "code",
   "execution_count": 10,
   "metadata": {
    "collapsed": true
   },
   "outputs": [],
   "source": [
    "# RMSE function\n",
    "rmse <- function(resids) {\n",
    "    sqrt(mean(resids^2))\n",
    "}\n",
    "# MAE function\n",
    "mae <- function(resids) {\n",
    "    mean(abs(resids))\n",
    "}"
   ]
  },
  {
   "cell_type": "code",
   "execution_count": 11,
   "metadata": {
    "scrolled": false
   },
   "outputs": [
    {
     "name": "stdout",
     "output_type": "stream",
     "text": [
      "Iteration #1\n",
      "\n",
      "Call:\n",
      "lm(formula = Crime ~ ., data = train_data)\n",
      "\n",
      "Residuals:\n",
      "    Min      1Q  Median      3Q     Max \n",
      "-354.88  -86.44   -4.82   77.37  467.47 \n",
      "\n",
      "Coefficients:\n",
      "              Estimate Std. Error t value Pr(>|t|)   \n",
      "(Intercept) -6104.9296  2068.7312  -2.951  0.00763 **\n",
      "M             102.2760    60.1488   1.700  0.10382   \n",
      "So           -114.2915   195.7346  -0.584  0.56550   \n",
      "Ed            120.1692    77.2415   1.556  0.13471   \n",
      "Po1           174.3027   118.6461   1.469  0.15663   \n",
      "Po2          -112.9272   131.6819  -0.858  0.40081   \n",
      "LF           -764.5198  1700.0301  -0.450  0.65753   \n",
      "M.F            15.9682    24.5602   0.650  0.52263   \n",
      "Pop            -1.2496     1.6571  -0.754  0.45919   \n",
      "NW              4.3656     7.9608   0.548  0.58921   \n",
      "U1          -5307.2621  5371.9166  -0.988  0.33442   \n",
      "U2            148.8000   103.3013   1.440  0.16448   \n",
      "Wealth          0.2596     0.1493   1.739  0.09666 . \n",
      "Ineq           77.4564    28.8980   2.680  0.01401 * \n",
      "Prob        -3938.1110  2897.3326  -1.359  0.18850   \n",
      "Time           -2.5860     8.2228  -0.314  0.75625   \n",
      "---\n",
      "Signif. codes:  0 ‘***’ 0.001 ‘**’ 0.01 ‘*’ 0.05 ‘.’ 0.1 ‘ ’ 1\n",
      "\n",
      "Residual standard error: 217.9 on 21 degrees of freedom\n",
      "Multiple R-squared:  0.7718,\tAdjusted R-squared:  0.6089 \n",
      "F-statistic: 4.736 on 15 and 21 DF,  p-value: 0.0006456\n",
      "\n",
      "Iteration #2\n",
      "\n",
      "Call:\n",
      "lm(formula = Crime ~ ., data = train_data)\n",
      "\n",
      "Residuals:\n",
      "     Min       1Q   Median       3Q      Max \n",
      "-231.958  -83.934   -2.402   64.632  259.599 \n",
      "\n",
      "Coefficients:\n",
      "              Estimate Std. Error t value Pr(>|t|)    \n",
      "(Intercept) -3.485e+03  1.436e+03  -2.427  0.02387 *  \n",
      "M            1.295e+02  3.617e+01   3.581  0.00166 ** \n",
      "So          -1.494e+01  1.250e+02  -0.120  0.90589    \n",
      "Ed           2.879e+02  5.360e+01   5.371 2.16e-05 ***\n",
      "Po1          2.097e+02  8.736e+01   2.400  0.02530 *  \n",
      "Po2         -1.139e+02  9.575e+01  -1.189  0.24708    \n",
      "LF          -9.398e+02  1.164e+03  -0.807  0.42814    \n",
      "M.F         -1.025e+01  1.726e+01  -0.594  0.55865    \n",
      "Pop         -1.415e+00  1.026e+00  -1.380  0.18154    \n",
      "NW           1.052e+00  6.287e+00   0.167  0.86859    \n",
      "U1          -7.455e+03  3.994e+03  -1.867  0.07535 .  \n",
      "U2           2.569e+02  7.525e+01   3.414  0.00248 ** \n",
      "Wealth      -7.612e-02  8.877e-02  -0.858  0.40041    \n",
      "Ineq         7.050e+01  1.829e+01   3.854  0.00086 ***\n",
      "Prob        -9.381e+03  2.691e+03  -3.486  0.00209 ** \n",
      "Time        -1.596e+01  6.722e+00  -2.375  0.02670 *  \n",
      "---\n",
      "Signif. codes:  0 ‘***’ 0.001 ‘**’ 0.01 ‘*’ 0.05 ‘.’ 0.1 ‘ ’ 1\n",
      "\n",
      "Residual standard error: 156 on 22 degrees of freedom\n",
      "Multiple R-squared:  0.9092,\tAdjusted R-squared:  0.8473 \n",
      "F-statistic: 14.68 on 15 and 22 DF,  p-value: 3.959e-08\n",
      "\n",
      "Iteration #3\n",
      "\n",
      "Call:\n",
      "lm(formula = Crime ~ ., data = train_data)\n",
      "\n",
      "Residuals:\n",
      "    Min      1Q  Median      3Q     Max \n",
      "-381.60 -108.29   12.58  114.69  521.04 \n",
      "\n",
      "Coefficients:\n",
      "              Estimate Std. Error t value Pr(>|t|)   \n",
      "(Intercept) -6.988e+03  2.101e+03  -3.326  0.00307 **\n",
      "M            6.918e+01  4.982e+01   1.388  0.17892   \n",
      "So          -1.415e+01  1.940e+02  -0.073  0.94252   \n",
      "Ed           2.481e+02  7.439e+01   3.335  0.00300 **\n",
      "Po1          2.203e+02  1.378e+02   1.599  0.12411   \n",
      "Po2         -1.373e+02  1.447e+02  -0.949  0.35298   \n",
      "LF          -1.235e+03  1.797e+03  -0.687  0.49898   \n",
      "M.F          3.043e+01  2.462e+01   1.236  0.22951   \n",
      "Pop         -8.035e-01  1.555e+00  -0.517  0.61058   \n",
      "NW           8.875e+00  8.069e+00   1.100  0.28330   \n",
      "U1          -6.551e+03  5.050e+03  -1.297  0.20803   \n",
      "U2           1.744e+02  1.055e+02   1.653  0.11258   \n",
      "Wealth       1.143e-02  1.291e-01   0.089  0.93027   \n",
      "Ineq         5.951e+01  3.137e+01   1.897  0.07099 . \n",
      "Prob        -2.784e+03  2.667e+03  -1.044  0.30789   \n",
      "Time         5.304e+00  9.232e+00   0.575  0.57146   \n",
      "---\n",
      "Signif. codes:  0 ‘***’ 0.001 ‘**’ 0.01 ‘*’ 0.05 ‘.’ 0.1 ‘ ’ 1\n",
      "\n",
      "Residual standard error: 224.6 on 22 degrees of freedom\n",
      "Multiple R-squared:  0.763,\tAdjusted R-squared:  0.6015 \n",
      "F-statistic: 4.723 on 15 and 22 DF,  p-value: 0.0005457\n",
      "\n",
      "Iteration #4\n",
      "\n",
      "Call:\n",
      "lm(formula = Crime ~ ., data = train_data)\n",
      "\n",
      "Residuals:\n",
      "    Min      1Q  Median      3Q     Max \n",
      "-400.37  -80.37    0.42   94.20  403.24 \n",
      "\n",
      "Coefficients:\n",
      "              Estimate Std. Error t value Pr(>|t|)  \n",
      "(Intercept) -5.098e+03  1.884e+03  -2.706   0.0129 *\n",
      "M            6.709e+01  6.386e+01   1.051   0.3048  \n",
      "So          -8.101e+01  1.816e+02  -0.446   0.6599  \n",
      "Ed           1.496e+02  8.715e+01   1.716   0.1002  \n",
      "Po1          2.475e+02  1.417e+02   1.747   0.0946 .\n",
      "Po2         -1.702e+02  1.600e+02  -1.064   0.2989  \n",
      "LF          -8.118e+02  2.644e+03  -0.307   0.7617  \n",
      "M.F          2.223e+01  2.878e+01   0.773   0.4480  \n",
      "Pop          1.416e+00  1.836e+00   0.771   0.4487  \n",
      "NW           8.377e+00  7.792e+00   1.075   0.2940  \n",
      "U1          -3.955e+03  4.912e+03  -0.805   0.4294  \n",
      "U2           1.342e+02  9.980e+01   1.345   0.1923  \n",
      "Wealth       4.299e-02  1.281e-01   0.335   0.7404  \n",
      "Ineq         4.937e+01  3.203e+01   1.541   0.1375  \n",
      "Prob        -4.536e+03  2.597e+03  -1.747   0.0946 .\n",
      "Time        -4.215e+00  8.548e+00  -0.493   0.6268  \n",
      "---\n",
      "Signif. codes:  0 ‘***’ 0.001 ‘**’ 0.01 ‘*’ 0.05 ‘.’ 0.1 ‘ ’ 1\n",
      "\n",
      "Residual standard error: 218.4 on 22 degrees of freedom\n",
      "Multiple R-squared:  0.8327,\tAdjusted R-squared:  0.7187 \n",
      "F-statistic: 7.302 on 15 and 22 DF,  p-value: 1.958e-05\n",
      "\n",
      "Iteration #5\n",
      "\n",
      "Call:\n",
      "lm(formula = Crime ~ ., data = train_data)\n",
      "\n",
      "Residuals:\n",
      "    Min      1Q  Median      3Q     Max \n",
      "-304.60 -109.24  -38.76  124.87  401.79 \n",
      "\n",
      "Coefficients:\n",
      "              Estimate Std. Error t value Pr(>|t|)   \n",
      "(Intercept) -7536.8930  2240.1291  -3.364  0.00293 **\n",
      "M              72.1891    47.9392   1.506  0.14700   \n",
      "So             94.6490   182.1750   0.520  0.60881   \n",
      "Ed            147.4452    73.9349   1.994  0.05927 . \n",
      "Po1           188.3669   164.1972   1.147  0.26420   \n",
      "Po2          -110.4119   183.1552  -0.603  0.55308   \n",
      "LF          -1139.1182  1740.3542  -0.655  0.51987   \n",
      "M.F            37.8183    24.1592   1.565  0.13244   \n",
      "Pop            -0.4180     1.5172  -0.275  0.78563   \n",
      "NW              2.3102     7.6550   0.302  0.76578   \n",
      "U1          -6183.4096  4799.1947  -1.288  0.21161   \n",
      "U2            129.5443    94.5294   1.370  0.18503   \n",
      "Wealth          0.1775     0.1133   1.567  0.13214   \n",
      "Ineq           81.8189    25.3099   3.233  0.00399 **\n",
      "Prob        -5497.2661  2751.7377  -1.998  0.05886 . \n",
      "Time           -1.2663    10.1290  -0.125  0.90170   \n",
      "---\n",
      "Signif. codes:  0 ‘***’ 0.001 ‘**’ 0.01 ‘*’ 0.05 ‘.’ 0.1 ‘ ’ 1\n",
      "\n",
      "Residual standard error: 209.9 on 21 degrees of freedom\n",
      "Multiple R-squared:  0.8489,\tAdjusted R-squared:  0.741 \n",
      "F-statistic: 7.867 on 15 and 21 DF,  p-value: 1.47e-05\n",
      "\n",
      "RMSE: 289.558\n",
      "MAE: 221.229\n"
     ]
    }
   ],
   "source": [
    "# Shuffle data\n",
    "shuffled_df <- crime_data[sample(nrow(crime_data)), ]\n",
    "\n",
    "# 5 fold split\n",
    "folds <- cut(seq(1, nrow(crime_data)), breaks=5, labels=FALSE)\n",
    "\n",
    "# For each fold, train and test on Linear Regression algorithm\n",
    "resids <- c(1:nrow(crime_data))\n",
    "preds <- c(1:nrow(crime_data))\n",
    "for (i in 1:5) {\n",
    "    print(glue(\"Iteration #{i}\"))\n",
    "    test_indices <- which(folds==i, arr.ind=TRUE)\n",
    "    test_data <- crime_data[test_indices, ]\n",
    "    train_data <- crime_data[-test_indices, ]\n",
    "\n",
    "    temp_fit <- lm(formula=Crime ~., data=train_data)\n",
    "    print(summary(temp_fit))\n",
    "    \n",
    "    # Perform prediction step on test data since model was fit using the training data\n",
    "    preds[test_indices] <- predict(temp_fit, test_data)    \n",
    "    resids[test_indices] <- test_data$Crime - preds[test_indices]\n",
    "}\n",
    "\n",
    "overall_rmse <- round(rmse(resids), 3)\n",
    "overall_mae <- round(mae(resids), 3)\n",
    "\n",
    "print(glue(\"RMSE: {overall_rmse}\"))\n",
    "print(glue(\"MAE: {overall_mae}\"))"
   ]
  },
  {
   "cell_type": "markdown",
   "metadata": {},
   "source": [
    "I also want to see the residual plot as well for the predicted values.\n",
    "\n",
    "**The plot is in the appendix.**"
   ]
  },
  {
   "cell_type": "code",
   "execution_count": 128,
   "metadata": {
    "collapsed": true
   },
   "outputs": [],
   "source": [
    "xyplot(resids ~ preds,\n",
    "  xlab = \"Fitted Values\",\n",
    "  ylab = \"Residuals\",\n",
    "  main = \"Residual Diagnostic Plot\",\n",
    "  panel = function(x, y, ...)\n",
    "  {\n",
    "    panel.grid(h = -1, v = -1)\n",
    "    panel.abline(h = 0)\n",
    "    panel.xyplot(x, y, ...)\n",
    "  }\n",
    ")"
   ]
  },
  {
   "cell_type": "markdown",
   "metadata": {},
   "source": [
    "From the summary of the models above, it seems that the features that seemed most useful were Ineq, Ed, M, Po1, U2, Prob, and Time. Using this subset of predictors, I'll build another linear regression model."
   ]
  },
  {
   "cell_type": "code",
   "execution_count": 13,
   "metadata": {
    "scrolled": false
   },
   "outputs": [
    {
     "name": "stdout",
     "output_type": "stream",
     "text": [
      "Iteration #1\n",
      "\n",
      "Call:\n",
      "lm(formula = Crime ~ M + Ed + Po1 + U2 + Ineq + Prob + Time, \n",
      "    data = train_data)\n",
      "\n",
      "Residuals:\n",
      "    Min      1Q  Median      3Q     Max \n",
      "-463.41 -113.86    0.58   68.57  592.99 \n",
      "\n",
      "Coefficients:\n",
      "             Estimate Std. Error t value Pr(>|t|)    \n",
      "(Intercept) -4568.594   1241.738  -3.679 0.000949 ***\n",
      "M             106.720     38.893   2.744 0.010304 *  \n",
      "Ed            176.508     59.748   2.954 0.006163 ** \n",
      "Po1           109.048     16.902   6.452 4.65e-07 ***\n",
      "U2             81.040     48.031   1.687 0.102287    \n",
      "Ineq           58.293     17.056   3.418 0.001891 ** \n",
      "Prob        -4109.257   2127.567  -1.931 0.063255 .  \n",
      "Time           -1.312      6.202  -0.212 0.833895    \n",
      "---\n",
      "Signif. codes:  0 ‘***’ 0.001 ‘**’ 0.01 ‘*’ 0.05 ‘.’ 0.1 ‘ ’ 1\n",
      "\n",
      "Residual standard error: 215.3 on 29 degrees of freedom\n",
      "Multiple R-squared:  0.6924,\tAdjusted R-squared:  0.6182 \n",
      "F-statistic: 9.327 on 7 and 29 DF,  p-value: 5.151e-06\n",
      "\n",
      "Iteration #2\n",
      "\n",
      "Call:\n",
      "lm(formula = Crime ~ M + Ed + Po1 + U2 + Ineq + Prob + Time, \n",
      "    data = train_data)\n",
      "\n",
      "Residuals:\n",
      "     Min       1Q   Median       3Q      Max \n",
      "-301.239 -132.051   -1.481  118.213  242.193 \n",
      "\n",
      "Coefficients:\n",
      "             Estimate Std. Error t value Pr(>|t|)    \n",
      "(Intercept) -5213.611    809.713  -6.439 4.12e-07 ***\n",
      "M             133.082     31.328   4.248 0.000192 ***\n",
      "Ed            201.936     43.540   4.638 6.46e-05 ***\n",
      "Po1           110.910     13.403   8.275 3.09e-09 ***\n",
      "U2            110.216     36.692   3.004 0.005338 ** \n",
      "Ineq           72.327     13.255   5.457 6.42e-06 ***\n",
      "Prob        -6561.410   2178.158  -3.012 0.005225 ** \n",
      "Time          -10.483      5.571  -1.882 0.069617 .  \n",
      "---\n",
      "Signif. codes:  0 ‘***’ 0.001 ‘**’ 0.01 ‘*’ 0.05 ‘.’ 0.1 ‘ ’ 1\n",
      "\n",
      "Residual standard error: 167.6 on 30 degrees of freedom\n",
      "Multiple R-squared:  0.8571,\tAdjusted R-squared:  0.8237 \n",
      "F-statistic:  25.7 on 7 and 30 DF,  p-value: 5.114e-11\n",
      "\n",
      "Iteration #3\n",
      "\n",
      "Call:\n",
      "lm(formula = Crime ~ M + Ed + Po1 + U2 + Ineq + Prob + Time, \n",
      "    data = train_data)\n",
      "\n",
      "Residuals:\n",
      "    Min      1Q  Median      3Q     Max \n",
      "-393.89  -92.37  -18.49  129.66  565.05 \n",
      "\n",
      "Coefficients:\n",
      "             Estimate Std. Error t value Pr(>|t|)    \n",
      "(Intercept) -5343.858   1205.693  -4.432 0.000115 ***\n",
      "M             104.572     40.033   2.612 0.013922 *  \n",
      "Ed            214.457     57.723   3.715 0.000830 ***\n",
      "Po1           106.462     17.007   6.260 6.76e-07 ***\n",
      "U2             80.575     53.943   1.494 0.145695    \n",
      "Ineq           68.054     16.851   4.039 0.000343 ***\n",
      "Prob        -2217.777   2264.673  -0.979 0.335267    \n",
      "Time            5.124      6.864   0.746 0.461205    \n",
      "---\n",
      "Signif. codes:  0 ‘***’ 0.001 ‘**’ 0.01 ‘*’ 0.05 ‘.’ 0.1 ‘ ’ 1\n",
      "\n",
      "Residual standard error: 211.4 on 30 degrees of freedom\n",
      "Multiple R-squared:  0.7138,\tAdjusted R-squared:  0.6471 \n",
      "F-statistic: 10.69 on 7 and 30 DF,  p-value: 1.117e-06\n",
      "\n",
      "Iteration #4\n",
      "\n",
      "Call:\n",
      "lm(formula = Crime ~ M + Ed + Po1 + U2 + Ineq + Prob + Time, \n",
      "    data = train_data)\n",
      "\n",
      "Residuals:\n",
      "    Min      1Q  Median      3Q     Max \n",
      "-542.08 -102.08    4.98  135.19  444.37 \n",
      "\n",
      "Coefficients:\n",
      "              Estimate Std. Error t value Pr(>|t|)    \n",
      "(Intercept) -4353.1006  1012.5067  -4.299 0.000167 ***\n",
      "M              82.6074    43.6773   1.891 0.068273 .  \n",
      "Ed            158.3024    55.2603   2.865 0.007552 ** \n",
      "Po1           127.6608    15.6173   8.174    4e-09 ***\n",
      "U2             86.4822    44.3536   1.950 0.060596 .  \n",
      "Ineq           65.0294    16.8641   3.856 0.000566 ***\n",
      "Prob        -3945.8976  2022.6503  -1.951 0.060469 .  \n",
      "Time            0.1747     6.1475   0.028 0.977520    \n",
      "---\n",
      "Signif. codes:  0 ‘***’ 0.001 ‘**’ 0.01 ‘*’ 0.05 ‘.’ 0.1 ‘ ’ 1\n",
      "\n",
      "Residual standard error: 199.3 on 30 degrees of freedom\n",
      "Multiple R-squared:  0.8101,\tAdjusted R-squared:  0.7658 \n",
      "F-statistic: 18.28 on 7 and 30 DF,  p-value: 3.182e-09\n",
      "\n",
      "Iteration #5\n",
      "\n",
      "Call:\n",
      "lm(formula = Crime ~ M + Ed + Po1 + U2 + Ineq + Prob + Time, \n",
      "    data = train_data)\n",
      "\n",
      "Residuals:\n",
      "    Min      1Q  Median      3Q     Max \n",
      "-498.35  -90.91  -10.76  153.29  548.25 \n",
      "\n",
      "Coefficients:\n",
      "             Estimate Std. Error t value Pr(>|t|)    \n",
      "(Intercept) -4652.173   1259.826  -3.693 0.000915 ***\n",
      "M              95.819     42.592   2.250 0.032229 *  \n",
      "Ed            176.717     62.219   2.840 0.008159 ** \n",
      "Po1           119.557     16.805   7.114 7.91e-08 ***\n",
      "U2             82.956     54.423   1.524 0.138272    \n",
      "Ineq           72.333     16.831   4.298 0.000177 ***\n",
      "Prob        -4765.887   2180.953  -2.185 0.037097 *  \n",
      "Time           -3.731      6.958  -0.536 0.595933    \n",
      "---\n",
      "Signif. codes:  0 ‘***’ 0.001 ‘**’ 0.01 ‘*’ 0.05 ‘.’ 0.1 ‘ ’ 1\n",
      "\n",
      "Residual standard error: 218.3 on 29 degrees of freedom\n",
      "Multiple R-squared:  0.7744,\tAdjusted R-squared:   0.72 \n",
      "F-statistic: 14.22 on 7 and 29 DF,  p-value: 7.421e-08\n",
      "\n",
      "RMSE: 227.23\n",
      "MAE: 169.714\n"
     ]
    }
   ],
   "source": [
    "# Shuffle data\n",
    "shuffled_df <- crime_data[sample(nrow(crime_data)), ]\n",
    "\n",
    "# 5 fold split\n",
    "folds <- cut(seq(1, nrow(crime_data)), breaks=5, labels=FALSE)\n",
    "\n",
    "# For each fold, train and test on Linear Regression algorithm\n",
    "resids <- c(1:nrow(crime_data))\n",
    "preds <- c(1:nrow(crime_data))\n",
    "for (i in 1:5) {\n",
    "    print(glue(\"Iteration #{i}\"))\n",
    "    test_indices <- which(folds==i, arr.ind=TRUE)\n",
    "    test_data <- crime_data[test_indices, ]\n",
    "    train_data <- crime_data[-test_indices, ]\n",
    "\n",
    "    temp_fit <- lm(formula=Crime ~ M + Ed + Po1 + U2 + Ineq + Prob + Time, data=train_data)\n",
    "    print(summary(temp_fit))\n",
    "    \n",
    "    # Perform prediction step on test data since model was fit using the training data\n",
    "    preds[test_indices] <- predict(temp_fit, test_data)    \n",
    "    resids[test_indices] <- test_data$Crime - preds[test_indices]\n",
    "}\n",
    "\n",
    "overall_rmse <- round(rmse(resids), 3)\n",
    "overall_mae <- round(mae(resids), 3)\n",
    "\n",
    "print(glue(\"RMSE: {overall_rmse}\"))\n",
    "print(glue(\"MAE: {overall_mae}\"))"
   ]
  },
  {
   "cell_type": "markdown",
   "metadata": {},
   "source": [
    "**The plot is in the appendix.**"
   ]
  },
  {
   "cell_type": "code",
   "execution_count": 129,
   "metadata": {
    "collapsed": true
   },
   "outputs": [],
   "source": [
    "xyplot(resids ~ preds,\n",
    "  xlab = \"Fitted Values\",\n",
    "  ylab = \"Residuals\",\n",
    "  main = \"Residual Diagnostic Plot\",\n",
    "  panel = function(x, y, ...)\n",
    "  {\n",
    "    panel.grid(h = -1, v = -1)\n",
    "    panel.abline(h = 0)\n",
    "    panel.xyplot(x, y, ...)\n",
    "  }\n",
    ")"
   ]
  },
  {
   "cell_type": "markdown",
   "metadata": {},
   "source": [
    "The second model with the subset of predictors worked the better than the model built on all the predictors. RMSE reduced from 289.558 to 227.23 and MAE reducted from 221.229 to 169.714.\n",
    "\n",
    "So, now the final model using all available data will be built using the formula below: \n",
    "\n",
    "Crime ~ M + Ed + Po1 + U2 + Ineq + Prob + Time\n"
   ]
  },
  {
   "cell_type": "code",
   "execution_count": 15,
   "metadata": {},
   "outputs": [
    {
     "name": "stdout",
     "output_type": "stream",
     "text": [
      "Prediction for the crime rate for the sample data is 1285.283\n",
      "[1] \"Final Model\"\n",
      "\n",
      "Call:\n",
      "lm(formula = Crime ~ M + Ed + Po1 + U2 + Ineq + Prob + Time, \n",
      "    data = crime_data)\n",
      "\n",
      "Residuals:\n",
      "    Min      1Q  Median      3Q     Max \n",
      "-480.89  -89.12   -6.63  140.27  576.79 \n",
      "\n",
      "Coefficients:\n",
      "             Estimate Std. Error t value Pr(>|t|)    \n",
      "(Intercept) -4911.094    960.729  -5.112 8.79e-06 ***\n",
      "M             106.659     33.877   3.148 0.003144 ** \n",
      "Ed            189.408     48.288   3.922 0.000345 ***\n",
      "Po1           115.704     13.993   8.269 4.16e-10 ***\n",
      "U2             88.720     41.364   2.145 0.038249 *  \n",
      "Ineq           67.728     14.083   4.809 2.28e-05 ***\n",
      "Prob        -4249.756   1880.672  -2.260 0.029502 *  \n",
      "Time           -2.310      5.538  -0.417 0.678810    \n",
      "---\n",
      "Signif. codes:  0 ‘***’ 0.001 ‘**’ 0.01 ‘*’ 0.05 ‘.’ 0.1 ‘ ’ 1\n",
      "\n",
      "Residual standard error: 202.8 on 39 degrees of freedom\n",
      "Multiple R-squared:  0.7669,\tAdjusted R-squared:  0.7251 \n",
      "F-statistic: 18.33 on 7 and 39 DF,  p-value: 1.553e-10\n",
      "\n"
     ]
    }
   ],
   "source": [
    "final_model <- lm(formula=Crime ~ M + Ed + Po1 + U2 + Ineq + Prob + Time, data=crime_data)\n",
    "\n",
    "sample_prediction <- round(predict(final_model, sample_data), 3)\n",
    "\n",
    "print(glue(\"Prediction for the crime rate for the sample data is {sample_prediction}\"))\n",
    "print(\"Final Model\")\n",
    "print(summary(final_model))"
   ]
  }
 ],
 "metadata": {
  "anaconda-cloud": {},
  "kernelspec": {
   "display_name": "R",
   "language": "R",
   "name": "ir"
  },
  "language_info": {
   "codemirror_mode": "r",
   "file_extension": ".r",
   "mimetype": "text/x-r-source",
   "name": "R",
   "pygments_lexer": "r",
   "version": "3.5.0"
  }
 },
 "nbformat": 4,
 "nbformat_minor": 2
}
