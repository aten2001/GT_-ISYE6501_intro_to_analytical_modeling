{
 "cells": [
  {
   "cell_type": "markdown",
   "metadata": {},
   "source": [
    "## Library Imports"
   ]
  },
  {
   "cell_type": "code",
   "execution_count": 39,
   "metadata": {},
   "outputs": [],
   "source": [
    "library(glue)\n",
    "library(DAAG)\n",
    "\n",
    "options(repr.plot.width=10, repr.plot.height=5)\n",
    "\n",
    "set.seed(20)\n",
    "options(warn=-1)"
   ]
  },
  {
   "cell_type": "markdown",
   "metadata": {},
   "source": [
    "### Question 7.1\n",
    "\n",
    "**Describe a situation or problem from your job, everyday life, current events, etc., for which exponential\n",
    "smoothing would be appropriate. What data would you need? Would you expect the value of α (the\n",
    "first smoothing parameter) to be closer to 0 or 1, and why?**"
   ]
  },
  {
   "cell_type": "markdown",
   "metadata": {},
   "source": [
    "**ANSWER:**\n",
    "The first that comes to mind when thinking of exponential smoothing and its uses for short-term forecasting is the stock market. Nowadays, there are numerous firms that try to use machine learning/AI to predict the prices of stocks in order to make lots of profit.\n",
    "\n",
    "The data I would need is stock price data in minute or maybe even second intervals. Seeing as how volatile stock prices are, I would say the alpha value would be near 1 so a lot of weight would be placed on the true current observation and little weight on the previous observation."
   ]
  },
  {
   "cell_type": "markdown",
   "metadata": {},
   "source": [
    "### Question 7.2\n",
    "**Using the 20 years of daily high temperature data for Atlanta (July through October) from Question 6.2\n",
    "(file temps.txt), build and use an exponential smoothing model to help make a judgment of whether\n",
    "the unofficial end of summer has gotten later over the 20 years. (Part of the point of this assignment is\n",
    "for you to think about how you might use exponential smoothing to answer this question. Feel free to\n",
    "combine it with other models if you’d like to. There’s certainly more than one reasonable approach.)\n",
    "Note: in R, you can use either HoltWinters (simpler to use) or the smooth package’s es function\n",
    "(harder to use, but more general). If you use es, the Holt-Winters model uses model=”AAM” in the\n",
    "function call (the first and second constants are used “A”dditively, and the third (seasonality) is used\n",
    "“M”ultiplicatively; the documentation doesn’t make that clear).**"
   ]
  },
  {
   "cell_type": "code",
   "execution_count": 91,
   "metadata": {},
   "outputs": [],
   "source": [
    "temp_data <- read.table('../data/7.2tempsSummer2018.txt', sep='', header=TRUE)\n",
    "\n",
    "temp_data$datetime <- as.Date(temp_data$DAY, format = \"%d-%b\")"
   ]
  },
  {
   "cell_type": "code",
   "execution_count": 92,
   "metadata": {},
   "outputs": [
    {
     "data": {
      "text/html": [
       "<table>\n",
       "<thead><tr><th scope=col>DAY</th><th scope=col>X1996</th><th scope=col>X1997</th><th scope=col>X1998</th><th scope=col>X1999</th><th scope=col>X2000</th><th scope=col>X2001</th><th scope=col>X2002</th><th scope=col>X2003</th><th scope=col>X2004</th><th scope=col>⋯</th><th scope=col>X2007</th><th scope=col>X2008</th><th scope=col>X2009</th><th scope=col>X2010</th><th scope=col>X2011</th><th scope=col>X2012</th><th scope=col>X2013</th><th scope=col>X2014</th><th scope=col>X2015</th><th scope=col>datetime</th></tr></thead>\n",
       "<tbody>\n",
       "\t<tr><td>1-Jul     </td><td>98        </td><td>86        </td><td>91        </td><td>84        </td><td>89        </td><td>84        </td><td>90        </td><td>73        </td><td>82        </td><td>⋯         </td><td>95        </td><td>85        </td><td>95        </td><td>87        </td><td>92        </td><td>105       </td><td>82        </td><td>90        </td><td>85        </td><td>2018-07-01</td></tr>\n",
       "\t<tr><td>2-Jul     </td><td>97        </td><td>90        </td><td>88        </td><td>82        </td><td>91        </td><td>87        </td><td>90        </td><td>81        </td><td>81        </td><td>⋯         </td><td>85        </td><td>87        </td><td>90        </td><td>84        </td><td>94        </td><td> 93       </td><td>85        </td><td>93        </td><td>87        </td><td>2018-07-02</td></tr>\n",
       "\t<tr><td>3-Jul     </td><td>97        </td><td>93        </td><td>91        </td><td>87        </td><td>93        </td><td>87        </td><td>87        </td><td>87        </td><td>86        </td><td>⋯         </td><td>82        </td><td>91        </td><td>89        </td><td>83        </td><td>95        </td><td> 99       </td><td>76        </td><td>87        </td><td>79        </td><td>2018-07-03</td></tr>\n",
       "\t<tr><td>4-Jul     </td><td>90        </td><td>91        </td><td>91        </td><td>88        </td><td>95        </td><td>84        </td><td>89        </td><td>86        </td><td>88        </td><td>⋯         </td><td>86        </td><td>90        </td><td>91        </td><td>85        </td><td>92        </td><td> 98       </td><td>77        </td><td>84        </td><td>85        </td><td>2018-07-04</td></tr>\n",
       "\t<tr><td>5-Jul     </td><td>89        </td><td>84        </td><td>91        </td><td>90        </td><td>96        </td><td>86        </td><td>93        </td><td>80        </td><td>90        </td><td>⋯         </td><td>88        </td><td>88        </td><td>80        </td><td>88        </td><td>90        </td><td>100       </td><td>83        </td><td>86        </td><td>84        </td><td>2018-07-05</td></tr>\n",
       "\t<tr><td>6-Jul     </td><td>93        </td><td>84        </td><td>89        </td><td>91        </td><td>96        </td><td>87        </td><td>93        </td><td>84        </td><td>90        </td><td>⋯         </td><td>87        </td><td>82        </td><td>87        </td><td>89        </td><td>90        </td><td> 98       </td><td>83        </td><td>87        </td><td>84        </td><td>2018-07-06</td></tr>\n",
       "</tbody>\n",
       "</table>\n"
      ],
      "text/latex": [
       "\\begin{tabular}{r|llllllllllllllllllllll}\n",
       " DAY & X1996 & X1997 & X1998 & X1999 & X2000 & X2001 & X2002 & X2003 & X2004 & ⋯ & X2007 & X2008 & X2009 & X2010 & X2011 & X2012 & X2013 & X2014 & X2015 & datetime\\\\\n",
       "\\hline\n",
       "\t 1-Jul      & 98         & 86         & 91         & 84         & 89         & 84         & 90         & 73         & 82         & ⋯          & 95         & 85         & 95         & 87         & 92         & 105        & 82         & 90         & 85         & 2018-07-01\\\\\n",
       "\t 2-Jul      & 97         & 90         & 88         & 82         & 91         & 87         & 90         & 81         & 81         & ⋯          & 85         & 87         & 90         & 84         & 94         &  93        & 85         & 93         & 87         & 2018-07-02\\\\\n",
       "\t 3-Jul      & 97         & 93         & 91         & 87         & 93         & 87         & 87         & 87         & 86         & ⋯          & 82         & 91         & 89         & 83         & 95         &  99        & 76         & 87         & 79         & 2018-07-03\\\\\n",
       "\t 4-Jul      & 90         & 91         & 91         & 88         & 95         & 84         & 89         & 86         & 88         & ⋯          & 86         & 90         & 91         & 85         & 92         &  98        & 77         & 84         & 85         & 2018-07-04\\\\\n",
       "\t 5-Jul      & 89         & 84         & 91         & 90         & 96         & 86         & 93         & 80         & 90         & ⋯          & 88         & 88         & 80         & 88         & 90         & 100        & 83         & 86         & 84         & 2018-07-05\\\\\n",
       "\t 6-Jul      & 93         & 84         & 89         & 91         & 96         & 87         & 93         & 84         & 90         & ⋯          & 87         & 82         & 87         & 89         & 90         &  98        & 83         & 87         & 84         & 2018-07-06\\\\\n",
       "\\end{tabular}\n"
      ],
      "text/markdown": [
       "\n",
       "DAY | X1996 | X1997 | X1998 | X1999 | X2000 | X2001 | X2002 | X2003 | X2004 | ⋯ | X2007 | X2008 | X2009 | X2010 | X2011 | X2012 | X2013 | X2014 | X2015 | datetime | \n",
       "|---|---|---|---|---|---|\n",
       "| 1-Jul      | 98         | 86         | 91         | 84         | 89         | 84         | 90         | 73         | 82         | ⋯          | 95         | 85         | 95         | 87         | 92         | 105        | 82         | 90         | 85         | 2018-07-01 | \n",
       "| 2-Jul      | 97         | 90         | 88         | 82         | 91         | 87         | 90         | 81         | 81         | ⋯          | 85         | 87         | 90         | 84         | 94         |  93        | 85         | 93         | 87         | 2018-07-02 | \n",
       "| 3-Jul      | 97         | 93         | 91         | 87         | 93         | 87         | 87         | 87         | 86         | ⋯          | 82         | 91         | 89         | 83         | 95         |  99        | 76         | 87         | 79         | 2018-07-03 | \n",
       "| 4-Jul      | 90         | 91         | 91         | 88         | 95         | 84         | 89         | 86         | 88         | ⋯          | 86         | 90         | 91         | 85         | 92         |  98        | 77         | 84         | 85         | 2018-07-04 | \n",
       "| 5-Jul      | 89         | 84         | 91         | 90         | 96         | 86         | 93         | 80         | 90         | ⋯          | 88         | 88         | 80         | 88         | 90         | 100        | 83         | 86         | 84         | 2018-07-05 | \n",
       "| 6-Jul      | 93         | 84         | 89         | 91         | 96         | 87         | 93         | 84         | 90         | ⋯          | 87         | 82         | 87         | 89         | 90         |  98        | 83         | 87         | 84         | 2018-07-06 | \n",
       "\n",
       "\n"
      ],
      "text/plain": [
       "  DAY   X1996 X1997 X1998 X1999 X2000 X2001 X2002 X2003 X2004 ⋯ X2007 X2008\n",
       "1 1-Jul 98    86    91    84    89    84    90    73    82    ⋯ 95    85   \n",
       "2 2-Jul 97    90    88    82    91    87    90    81    81    ⋯ 85    87   \n",
       "3 3-Jul 97    93    91    87    93    87    87    87    86    ⋯ 82    91   \n",
       "4 4-Jul 90    91    91    88    95    84    89    86    88    ⋯ 86    90   \n",
       "5 5-Jul 89    84    91    90    96    86    93    80    90    ⋯ 88    88   \n",
       "6 6-Jul 93    84    89    91    96    87    93    84    90    ⋯ 87    82   \n",
       "  X2009 X2010 X2011 X2012 X2013 X2014 X2015 datetime  \n",
       "1 95    87    92    105   82    90    85    2018-07-01\n",
       "2 90    84    94     93   85    93    87    2018-07-02\n",
       "3 89    83    95     99   76    87    79    2018-07-03\n",
       "4 91    85    92     98   77    84    85    2018-07-04\n",
       "5 80    88    90    100   83    86    84    2018-07-05\n",
       "6 87    89    90     98   83    87    84    2018-07-06"
      ]
     },
     "metadata": {},
     "output_type": "display_data"
    }
   ],
   "source": [
    "head(temp_data)"
   ]
  },
  {
   "cell_type": "code",
   "execution_count": 110,
   "metadata": {
    "collapsed": true
   },
   "outputs": [],
   "source": [
    "data_jul1  <- ts(temp_data[1,c(2:20)], frequency=18)"
   ]
  },
  {
   "cell_type": "code",
   "execution_count": 111,
   "metadata": {},
   "outputs": [
    {
     "data": {
      "text/html": [
       "<table>\n",
       "<thead><tr><th scope=col>X1996</th><th scope=col>X1997</th><th scope=col>X1998</th><th scope=col>X1999</th><th scope=col>X2000</th><th scope=col>X2001</th><th scope=col>X2002</th><th scope=col>X2003</th><th scope=col>X2004</th><th scope=col>X2005</th><th scope=col>X2006</th><th scope=col>X2007</th><th scope=col>X2008</th><th scope=col>X2009</th><th scope=col>X2010</th><th scope=col>X2011</th><th scope=col>X2012</th><th scope=col>X2013</th><th scope=col>X2014</th></tr></thead>\n",
       "<tbody>\n",
       "\t<tr><td>98 </td><td>86 </td><td>91 </td><td>84 </td><td>89 </td><td>84 </td><td>90 </td><td>73 </td><td>82 </td><td>91 </td><td>93 </td><td>95 </td><td>85 </td><td>95 </td><td>87 </td><td>92 </td><td>105</td><td>82 </td><td>90 </td></tr>\n",
       "</tbody>\n",
       "</table>\n"
      ],
      "text/latex": [
       "\\begin{tabular}{lllllllllllllllllll}\n",
       " X1996 & X1997 & X1998 & X1999 & X2000 & X2001 & X2002 & X2003 & X2004 & X2005 & X2006 & X2007 & X2008 & X2009 & X2010 & X2011 & X2012 & X2013 & X2014\\\\\n",
       "\\hline\n",
       "\t 98  & 86  & 91  & 84  & 89  & 84  & 90  & 73  & 82  & 91  & 93  & 95  & 85  & 95  & 87  & 92  & 105 & 82  & 90 \\\\\n",
       "\\end{tabular}\n"
      ],
      "text/markdown": [
       "\n",
       "X1996 | X1997 | X1998 | X1999 | X2000 | X2001 | X2002 | X2003 | X2004 | X2005 | X2006 | X2007 | X2008 | X2009 | X2010 | X2011 | X2012 | X2013 | X2014 | \n",
       "|---|\n",
       "| 98  | 86  | 91  | 84  | 89  | 84  | 90  | 73  | 82  | 91  | 93  | 95  | 85  | 95  | 87  | 92  | 105 | 82  | 90  | \n",
       "\n",
       "\n"
      ],
      "text/plain": [
       "     X1996 X1997 X1998 X1999 X2000 X2001 X2002 X2003 X2004 X2005 X2006 X2007\n",
       "[1,] 98    86    91    84    89    84    90    73    82    91    93    95   \n",
       "     X2008 X2009 X2010 X2011 X2012 X2013 X2014\n",
       "[1,] 85    95    87    92    105   82    90   "
      ]
     },
     "metadata": {},
     "output_type": "display_data"
    }
   ],
   "source": [
    "data_jul1"
   ]
  },
  {
   "cell_type": "code",
   "execution_count": 112,
   "metadata": {},
   "outputs": [
    {
     "ename": "ERROR",
     "evalue": "Error in decompose(ts(x[1L:wind], start = start(x), frequency = f), seasonal): time series has no or less than 2 periods\n",
     "output_type": "error",
     "traceback": [
      "Error in decompose(ts(x[1L:wind], start = start(x), frequency = f), seasonal): time series has no or less than 2 periods\nTraceback:\n",
      "1. HoltWinters(data_jul1)",
      "2. decompose(ts(x[1L:wind], start = start(x), frequency = f), seasonal)",
      "3. stop(\"time series has no or less than 2 periods\")"
     ]
    }
   ],
   "source": [
    "hw <- HoltWinters(data_jul1)\n",
    "plot(hw)"
   ]
  },
  {
   "cell_type": "markdown",
   "metadata": {},
   "source": [
    "### Question 8.1\n",
    "**Describe a situation or problem from your job, everyday life, current events, etc., for which a linear\n",
    "regression model would be appropriate. List some (up to 5) predictors that you might use.**"
   ]
  },
  {
   "cell_type": "markdown",
   "metadata": {},
   "source": [
    "**ANSWER:**\n",
    "\n",
    "Linear regression is useful when predicting house prices. Especially in the Bay Area where the housing market is so high, its important to be able to accurately predict the housing price so that you don't overpay on an already ridiculously highly priced house. \n",
    "\n",
    "5 predictors to use:\n",
    "1. Square footage\n",
    "2. Distance of bus stop or subway stations\n",
    "3. Year it was built\n",
    "4. Number of bedrooms\n",
    "5. Number of bathrooms"
   ]
  },
  {
   "cell_type": "markdown",
   "metadata": {},
   "source": [
    "### Question 8.2\n",
    "**Using crime data from http://www.statsci.org/data/general/uscrime.txt (file uscrime.txt,\n",
    "description at http://www.statsci.org/data/general/uscrime.html ), use regression (a useful R function is\n",
    "lm or glm) to predict the observed crime rate in a city with the following data:**\n",
    "\n",
    "- M = 14.0\n",
    "- So = 0\n",
    "- Ed = 10.0\n",
    "- Po1 = 12.0\n",
    "- Po2 = 15.5\n",
    "- LF = 0.640\n",
    "- M.F = 94.0\n",
    "- Pop = 150\n",
    "- NW = 1.1\n",
    "- U1 = 0.120\n",
    "- U2 = 3.6\n",
    "- Wealth = 3200\n",
    "- Ineq = 20.1\n",
    "- Prob = 0.04\n",
    "- Time = 39.0\n",
    "\n",
    "**Show your model (factors used and their coefficients), the software output, and the quality of fit.\n",
    "Note that because there are only 47 data points and 15 predictors, you’ll probably notice some\n",
    "overfitting. We’ll see ways of dealing with this sort of problem later in the course.**"
   ]
  },
  {
   "cell_type": "code",
   "execution_count": 2,
   "metadata": {
    "collapsed": true
   },
   "outputs": [],
   "source": [
    "crime_data <- read.table('../data/5.1uscrimeSummer2018.txt', sep='', header=TRUE)"
   ]
  },
  {
   "cell_type": "code",
   "execution_count": 44,
   "metadata": {
    "collapsed": true
   },
   "outputs": [],
   "source": [
    "M  <-  14.0\n",
    "So <- 0\n",
    "Ed <- 10.0\n",
    "Po1 <- 12.0\n",
    "Po2 <- 15.5\n",
    "LF <- 0.640\n",
    "M.F <- 94.0\n",
    "Pop <- 150\n",
    "NW <- 1.1\n",
    "U1 <- 0.120\n",
    "U2 <- 3.6\n",
    "Wealth <- 3200\n",
    "Ineq <- 20.1\n",
    "Prob <- 0.04\n",
    "Time <- 39.0\n",
    "\n",
    "sample_data <- data.frame(M,So,Ed,Po1,Po2,LF,M.F,Pop,NW,U1,U2,Wealth,Ineq,Prob,Time)"
   ]
  },
  {
   "cell_type": "markdown",
   "metadata": {},
   "source": [
    "Use cross-validation to determine the root mean squared error (RMSE) and the mean absolute error (MAE) for each fold in the cross-validation step."
   ]
  },
  {
   "cell_type": "code",
   "execution_count": 17,
   "metadata": {},
   "outputs": [],
   "source": [
    "# RMSE function\n",
    "rmse <- function(resids) {\n",
    "    sqrt(mean(resids^2))\n",
    "}\n",
    "# MAE function\n",
    "mae <- function(resids) {\n",
    "    mean(abs(resids))\n",
    "}"
   ]
  },
  {
   "cell_type": "code",
   "execution_count": 51,
   "metadata": {
    "scrolled": false
   },
   "outputs": [
    {
     "name": "stdout",
     "output_type": "stream",
     "text": [
      "Iteration #1\n",
      "\n",
      "Call:\n",
      "lm(formula = Crime ~ ., data = train_data)\n",
      "\n",
      "Residuals:\n",
      "   Min     1Q Median     3Q    Max \n",
      "-354.9  -86.4   -4.8   77.4  467.5 \n",
      "\n",
      "Coefficients:\n",
      "             Estimate Std. Error t value Pr(>|t|)   \n",
      "(Intercept) -6104.930   2068.731   -2.95   0.0076 **\n",
      "M             102.276     60.149    1.70   0.1038   \n",
      "So           -114.292    195.735   -0.58   0.5655   \n",
      "Ed            120.169     77.242    1.56   0.1347   \n",
      "Po1           174.303    118.646    1.47   0.1566   \n",
      "Po2          -112.927    131.682   -0.86   0.4008   \n",
      "LF           -764.520   1700.030   -0.45   0.6575   \n",
      "M.F            15.968     24.560    0.65   0.5226   \n",
      "Pop            -1.250      1.657   -0.75   0.4592   \n",
      "NW              4.366      7.961    0.55   0.5892   \n",
      "U1          -5307.262   5371.917   -0.99   0.3344   \n",
      "U2            148.800    103.301    1.44   0.1645   \n",
      "Wealth          0.260      0.149    1.74   0.0967 . \n",
      "Ineq           77.456     28.898    2.68   0.0140 * \n",
      "Prob        -3938.111   2897.333   -1.36   0.1885   \n",
      "Time           -2.586      8.223   -0.31   0.7563   \n",
      "---\n",
      "Signif. codes:  0 ‘***’ 0.001 ‘**’ 0.01 ‘*’ 0.05 ‘.’ 0.1 ‘ ’ 1\n",
      "\n",
      "Residual standard error: 218 on 21 degrees of freedom\n",
      "Multiple R-squared:  0.772,\tAdjusted R-squared:  0.609 \n",
      "F-statistic: 4.74 on 15 and 21 DF,  p-value: 0.000646\n",
      "\n",
      "Iteration #2\n",
      "\n",
      "Call:\n",
      "lm(formula = Crime ~ ., data = train_data)\n",
      "\n",
      "Residuals:\n",
      "   Min     1Q Median     3Q    Max \n",
      "-232.0  -83.9   -2.4   64.6  259.6 \n",
      "\n",
      "Coefficients:\n",
      "             Estimate Std. Error t value Pr(>|t|)    \n",
      "(Intercept) -3.48e+03   1.44e+03   -2.43  0.02387 *  \n",
      "M            1.30e+02   3.62e+01    3.58  0.00166 ** \n",
      "So          -1.49e+01   1.25e+02   -0.12  0.90589    \n",
      "Ed           2.88e+02   5.36e+01    5.37  2.2e-05 ***\n",
      "Po1          2.10e+02   8.74e+01    2.40  0.02530 *  \n",
      "Po2         -1.14e+02   9.58e+01   -1.19  0.24708    \n",
      "LF          -9.40e+02   1.16e+03   -0.81  0.42814    \n",
      "M.F         -1.02e+01   1.73e+01   -0.59  0.55865    \n",
      "Pop         -1.42e+00   1.03e+00   -1.38  0.18154    \n",
      "NW           1.05e+00   6.29e+00    0.17  0.86859    \n",
      "U1          -7.46e+03   3.99e+03   -1.87  0.07535 .  \n",
      "U2           2.57e+02   7.53e+01    3.41  0.00248 ** \n",
      "Wealth      -7.61e-02   8.88e-02   -0.86  0.40041    \n",
      "Ineq         7.05e+01   1.83e+01    3.85  0.00086 ***\n",
      "Prob        -9.38e+03   2.69e+03   -3.49  0.00209 ** \n",
      "Time        -1.60e+01   6.72e+00   -2.37  0.02670 *  \n",
      "---\n",
      "Signif. codes:  0 ‘***’ 0.001 ‘**’ 0.01 ‘*’ 0.05 ‘.’ 0.1 ‘ ’ 1\n",
      "\n",
      "Residual standard error: 156 on 22 degrees of freedom\n",
      "Multiple R-squared:  0.909,\tAdjusted R-squared:  0.847 \n",
      "F-statistic: 14.7 on 15 and 22 DF,  p-value: 3.96e-08\n",
      "\n",
      "Iteration #3\n",
      "\n",
      "Call:\n",
      "lm(formula = Crime ~ ., data = train_data)\n",
      "\n",
      "Residuals:\n",
      "   Min     1Q Median     3Q    Max \n",
      "-381.6 -108.3   12.6  114.7  521.0 \n",
      "\n",
      "Coefficients:\n",
      "             Estimate Std. Error t value Pr(>|t|)   \n",
      "(Intercept) -6.99e+03   2.10e+03   -3.33   0.0031 **\n",
      "M            6.92e+01   4.98e+01    1.39   0.1789   \n",
      "So          -1.41e+01   1.94e+02   -0.07   0.9425   \n",
      "Ed           2.48e+02   7.44e+01    3.34   0.0030 **\n",
      "Po1          2.20e+02   1.38e+02    1.60   0.1241   \n",
      "Po2         -1.37e+02   1.45e+02   -0.95   0.3530   \n",
      "LF          -1.24e+03   1.80e+03   -0.69   0.4990   \n",
      "M.F          3.04e+01   2.46e+01    1.24   0.2295   \n",
      "Pop         -8.03e-01   1.56e+00   -0.52   0.6106   \n",
      "NW           8.87e+00   8.07e+00    1.10   0.2833   \n",
      "U1          -6.55e+03   5.05e+03   -1.30   0.2080   \n",
      "U2           1.74e+02   1.06e+02    1.65   0.1126   \n",
      "Wealth       1.14e-02   1.29e-01    0.09   0.9303   \n",
      "Ineq         5.95e+01   3.14e+01    1.90   0.0710 . \n",
      "Prob        -2.78e+03   2.67e+03   -1.04   0.3079   \n",
      "Time         5.30e+00   9.23e+00    0.57   0.5715   \n",
      "---\n",
      "Signif. codes:  0 ‘***’ 0.001 ‘**’ 0.01 ‘*’ 0.05 ‘.’ 0.1 ‘ ’ 1\n",
      "\n",
      "Residual standard error: 225 on 22 degrees of freedom\n",
      "Multiple R-squared:  0.763,\tAdjusted R-squared:  0.601 \n",
      "F-statistic: 4.72 on 15 and 22 DF,  p-value: 0.000546\n",
      "\n",
      "Iteration #4\n",
      "\n",
      "Call:\n",
      "lm(formula = Crime ~ ., data = train_data)\n",
      "\n",
      "Residuals:\n",
      "   Min     1Q Median     3Q    Max \n",
      "-400.4  -80.4    0.4   94.2  403.2 \n",
      "\n",
      "Coefficients:\n",
      "             Estimate Std. Error t value Pr(>|t|)  \n",
      "(Intercept) -5098.395   1884.283   -2.71    0.013 *\n",
      "M              67.090     63.856    1.05    0.305  \n",
      "So            -81.009    181.595   -0.45    0.660  \n",
      "Ed            149.565     87.150    1.72    0.100  \n",
      "Po1           247.488    141.668    1.75    0.095 .\n",
      "Po2          -170.224    160.002   -1.06    0.299  \n",
      "LF           -811.835   2644.403   -0.31    0.762  \n",
      "M.F            22.233     28.777    0.77    0.448  \n",
      "Pop             1.416      1.836    0.77    0.449  \n",
      "NW              8.377      7.792    1.08    0.294  \n",
      "U1          -3954.784   4912.302   -0.81    0.429  \n",
      "U2            134.232     99.800    1.35    0.192  \n",
      "Wealth          0.043      0.128    0.34    0.740  \n",
      "Ineq           49.370     32.028    1.54    0.137  \n",
      "Prob        -4536.102   2596.590   -1.75    0.095 .\n",
      "Time           -4.215      8.548   -0.49    0.627  \n",
      "---\n",
      "Signif. codes:  0 ‘***’ 0.001 ‘**’ 0.01 ‘*’ 0.05 ‘.’ 0.1 ‘ ’ 1\n",
      "\n",
      "Residual standard error: 218 on 22 degrees of freedom\n",
      "Multiple R-squared:  0.833,\tAdjusted R-squared:  0.719 \n",
      "F-statistic:  7.3 on 15 and 22 DF,  p-value: 1.96e-05\n",
      "\n",
      "Iteration #5\n",
      "\n",
      "Call:\n",
      "lm(formula = Crime ~ ., data = train_data)\n",
      "\n",
      "Residuals:\n",
      "   Min     1Q Median     3Q    Max \n",
      "-304.6 -109.2  -38.8  124.9  401.8 \n",
      "\n",
      "Coefficients:\n",
      "             Estimate Std. Error t value Pr(>|t|)   \n",
      "(Intercept) -7536.893   2240.129   -3.36   0.0029 **\n",
      "M              72.189     47.939    1.51   0.1470   \n",
      "So             94.649    182.175    0.52   0.6088   \n",
      "Ed            147.445     73.935    1.99   0.0593 . \n",
      "Po1           188.367    164.197    1.15   0.2642   \n",
      "Po2          -110.412    183.155   -0.60   0.5531   \n",
      "LF          -1139.118   1740.354   -0.65   0.5199   \n",
      "M.F            37.818     24.159    1.57   0.1324   \n",
      "Pop            -0.418      1.517   -0.28   0.7856   \n",
      "NW              2.310      7.655    0.30   0.7658   \n",
      "U1          -6183.410   4799.195   -1.29   0.2116   \n",
      "U2            129.544     94.529    1.37   0.1850   \n",
      "Wealth          0.177      0.113    1.57   0.1321   \n",
      "Ineq           81.819     25.310    3.23   0.0040 **\n",
      "Prob        -5497.266   2751.738   -2.00   0.0589 . \n",
      "Time           -1.266     10.129   -0.13   0.9017   \n",
      "---\n",
      "Signif. codes:  0 ‘***’ 0.001 ‘**’ 0.01 ‘*’ 0.05 ‘.’ 0.1 ‘ ’ 1\n",
      "\n",
      "Residual standard error: 210 on 21 degrees of freedom\n",
      "Multiple R-squared:  0.849,\tAdjusted R-squared:  0.741 \n",
      "F-statistic: 7.87 on 15 and 21 DF,  p-value: 1.47e-05\n",
      "\n",
      "RMSE: 289.558\n",
      "MAE: 221.229\n"
     ]
    }
   ],
   "source": [
    "# Shuffle data\n",
    "shuffled_df <- crime_data[sample(nrow(crime_data)), ]\n",
    "\n",
    "# 5 fold split\n",
    "folds <- cut(seq(1, nrow(crime_data)), breaks=5, labels=FALSE)\n",
    "\n",
    "# For each fold, train and test on Linear Regression algorithm\n",
    "resids <- c(1:nrow(crime_data))\n",
    "preds <- c(1:nrow(crime_data))\n",
    "for (i in 1:5) {\n",
    "    print(glue(\"Iteration #{i}\"))\n",
    "    test_indices <- which(folds==i, arr.ind=TRUE)\n",
    "    test_data <- crime_data[test_indices, ]\n",
    "    train_data <- crime_data[-test_indices, ]\n",
    "\n",
    "    temp_fit <- lm(formula=Crime ~., data=train_data)\n",
    "    print(summary(temp_fit))\n",
    "    \n",
    "    # Perform prediction step on test data since model was fit using the training data\n",
    "    preds[test_indices] <- predict(temp_fit, test_data)    \n",
    "    resids[test_indices] <- test_data$Crime - preds[test_indices]\n",
    "}\n",
    "\n",
    "overall_rmse <- round(rmse(resids), 3)\n",
    "overall_mae <- round(mae(resids), 3)\n",
    "\n",
    "print(glue(\"RMSE: {overall_rmse}\"))\n",
    "print(glue(\"MAE: {overall_mae}\"))"
   ]
  },
  {
   "cell_type": "markdown",
   "metadata": {},
   "source": [
    "I also want to see the residual plot as well for the predicted values."
   ]
  },
  {
   "cell_type": "code",
   "execution_count": 36,
   "metadata": {},
   "outputs": [
    {
     "data": {},
     "metadata": {},
     "output_type": "display_data"
    },
    {
     "data": {
      "image/png": "[encoded data removed]",
      "text/plain": [
       "plot without title"
      ]
     },
     "metadata": {},
     "output_type": "display_data"
    }
   ],
   "source": [
    "xyplot(resids ~ preds,\n",
    "  xlab = \"Fitted Values\",\n",
    "  ylab = \"Residuals\",\n",
    "  main = \"Residual Diagnostic Plot\",\n",
    "  panel = function(x, y, ...)\n",
    "  {\n",
    "    panel.grid(h = -1, v = -1)\n",
    "    panel.abline(h = 0)\n",
    "    panel.xyplot(x, y, ...)\n",
    "  }\n",
    ")"
   ]
  },
  {
   "cell_type": "markdown",
   "metadata": {},
   "source": [
    "From the summary of the models above, it seems that the features that seemed most useful were Ineq, Ed, M, Po1, U2, Prob, and Time. Using this subset of predictors, I'll build another linear regression model."
   ]
  },
  {
   "cell_type": "code",
   "execution_count": 56,
   "metadata": {
    "scrolled": false
   },
   "outputs": [
    {
     "name": "stdout",
     "output_type": "stream",
     "text": [
      "Iteration #1\n",
      "\n",
      "Call:\n",
      "lm(formula = Crime ~ M + Ed + Po1 + U2 + Ineq + Prob + Time, \n",
      "    data = train_data)\n",
      "\n",
      "Residuals:\n",
      "   Min     1Q Median     3Q    Max \n",
      "-463.4 -113.9    0.6   68.6  593.0 \n",
      "\n",
      "Coefficients:\n",
      "            Estimate Std. Error t value Pr(>|t|)    \n",
      "(Intercept) -4568.59    1241.74   -3.68  0.00095 ***\n",
      "M             106.72      38.89    2.74  0.01030 *  \n",
      "Ed            176.51      59.75    2.95  0.00616 ** \n",
      "Po1           109.05      16.90    6.45  4.7e-07 ***\n",
      "U2             81.04      48.03    1.69  0.10229    \n",
      "Ineq           58.29      17.06    3.42  0.00189 ** \n",
      "Prob        -4109.26    2127.57   -1.93  0.06325 .  \n",
      "Time           -1.31       6.20   -0.21  0.83389    \n",
      "---\n",
      "Signif. codes:  0 ‘***’ 0.001 ‘**’ 0.01 ‘*’ 0.05 ‘.’ 0.1 ‘ ’ 1\n",
      "\n",
      "Residual standard error: 215 on 29 degrees of freedom\n",
      "Multiple R-squared:  0.692,\tAdjusted R-squared:  0.618 \n",
      "F-statistic: 9.33 on 7 and 29 DF,  p-value: 5.15e-06\n",
      "\n",
      "Iteration #2\n",
      "\n",
      "Call:\n",
      "lm(formula = Crime ~ M + Ed + Po1 + U2 + Ineq + Prob + Time, \n",
      "    data = train_data)\n",
      "\n",
      "Residuals:\n",
      "    Min      1Q  Median      3Q     Max \n",
      "-301.24 -132.05   -1.48  118.21  242.19 \n",
      "\n",
      "Coefficients:\n",
      "            Estimate Std. Error t value Pr(>|t|)    \n",
      "(Intercept) -5213.61     809.71   -6.44  4.1e-07 ***\n",
      "M             133.08      31.33    4.25  0.00019 ***\n",
      "Ed            201.94      43.54    4.64  6.5e-05 ***\n",
      "Po1           110.91      13.40    8.27  3.1e-09 ***\n",
      "U2            110.22      36.69    3.00  0.00534 ** \n",
      "Ineq           72.33      13.25    5.46  6.4e-06 ***\n",
      "Prob        -6561.41    2178.16   -3.01  0.00522 ** \n",
      "Time          -10.48       5.57   -1.88  0.06962 .  \n",
      "---\n",
      "Signif. codes:  0 ‘***’ 0.001 ‘**’ 0.01 ‘*’ 0.05 ‘.’ 0.1 ‘ ’ 1\n",
      "\n",
      "Residual standard error: 168 on 30 degrees of freedom\n",
      "Multiple R-squared:  0.857,\tAdjusted R-squared:  0.824 \n",
      "F-statistic: 25.7 on 7 and 30 DF,  p-value: 5.11e-11\n",
      "\n",
      "Iteration #3\n",
      "\n",
      "Call:\n",
      "lm(formula = Crime ~ M + Ed + Po1 + U2 + Ineq + Prob + Time, \n",
      "    data = train_data)\n",
      "\n",
      "Residuals:\n",
      "   Min     1Q Median     3Q    Max \n",
      "-393.9  -92.4  -18.5  129.7  565.0 \n",
      "\n",
      "Coefficients:\n",
      "            Estimate Std. Error t value Pr(>|t|)    \n",
      "(Intercept) -5343.86    1205.69   -4.43  0.00012 ***\n",
      "M             104.57      40.03    2.61  0.01392 *  \n",
      "Ed            214.46      57.72    3.72  0.00083 ***\n",
      "Po1           106.46      17.01    6.26  6.8e-07 ***\n",
      "U2             80.57      53.94    1.49  0.14569    \n",
      "Ineq           68.05      16.85    4.04  0.00034 ***\n",
      "Prob        -2217.78    2264.67   -0.98  0.33527    \n",
      "Time            5.12       6.86    0.75  0.46120    \n",
      "---\n",
      "Signif. codes:  0 ‘***’ 0.001 ‘**’ 0.01 ‘*’ 0.05 ‘.’ 0.1 ‘ ’ 1\n",
      "\n",
      "Residual standard error: 211 on 30 degrees of freedom\n",
      "Multiple R-squared:  0.714,\tAdjusted R-squared:  0.647 \n",
      "F-statistic: 10.7 on 7 and 30 DF,  p-value: 1.12e-06\n",
      "\n",
      "Iteration #4\n",
      "\n",
      "Call:\n",
      "lm(formula = Crime ~ M + Ed + Po1 + U2 + Ineq + Prob + Time, \n",
      "    data = train_data)\n",
      "\n",
      "Residuals:\n",
      "   Min     1Q Median     3Q    Max \n",
      "  -542   -102      5    135    444 \n",
      "\n",
      "Coefficients:\n",
      "             Estimate Std. Error t value Pr(>|t|)    \n",
      "(Intercept) -4353.101   1012.507   -4.30  0.00017 ***\n",
      "M              82.607     43.677    1.89  0.06827 .  \n",
      "Ed            158.302     55.260    2.86  0.00755 ** \n",
      "Po1           127.661     15.617    8.17    4e-09 ***\n",
      "U2             86.482     44.354    1.95  0.06060 .  \n",
      "Ineq           65.029     16.864    3.86  0.00057 ***\n",
      "Prob        -3945.898   2022.650   -1.95  0.06047 .  \n",
      "Time            0.175      6.148    0.03  0.97752    \n",
      "---\n",
      "Signif. codes:  0 ‘***’ 0.001 ‘**’ 0.01 ‘*’ 0.05 ‘.’ 0.1 ‘ ’ 1\n",
      "\n",
      "Residual standard error: 199 on 30 degrees of freedom\n",
      "Multiple R-squared:  0.81,\tAdjusted R-squared:  0.766 \n",
      "F-statistic: 18.3 on 7 and 30 DF,  p-value: 3.18e-09\n",
      "\n",
      "Iteration #5\n",
      "\n",
      "Call:\n",
      "lm(formula = Crime ~ M + Ed + Po1 + U2 + Ineq + Prob + Time, \n",
      "    data = train_data)\n",
      "\n",
      "Residuals:\n",
      "   Min     1Q Median     3Q    Max \n",
      "-498.3  -90.9  -10.8  153.3  548.2 \n",
      "\n",
      "Coefficients:\n",
      "            Estimate Std. Error t value Pr(>|t|)    \n",
      "(Intercept) -4652.17    1259.83   -3.69  0.00092 ***\n",
      "M              95.82      42.59    2.25  0.03223 *  \n",
      "Ed            176.72      62.22    2.84  0.00816 ** \n",
      "Po1           119.56      16.81    7.11  7.9e-08 ***\n",
      "U2             82.96      54.42    1.52  0.13827    \n",
      "Ineq           72.33      16.83    4.30  0.00018 ***\n",
      "Prob        -4765.89    2180.95   -2.19  0.03710 *  \n",
      "Time           -3.73       6.96   -0.54  0.59593    \n",
      "---\n",
      "Signif. codes:  0 ‘***’ 0.001 ‘**’ 0.01 ‘*’ 0.05 ‘.’ 0.1 ‘ ’ 1\n",
      "\n",
      "Residual standard error: 218 on 29 degrees of freedom\n",
      "Multiple R-squared:  0.774,\tAdjusted R-squared:  0.72 \n",
      "F-statistic: 14.2 on 7 and 29 DF,  p-value: 7.42e-08\n",
      "\n",
      "RMSE: 227.23\n",
      "MAE: 169.714\n"
     ]
    }
   ],
   "source": [
    "# Shuffle data\n",
    "shuffled_df <- crime_data[sample(nrow(crime_data)), ]\n",
    "\n",
    "# 5 fold split\n",
    "folds <- cut(seq(1, nrow(crime_data)), breaks=5, labels=FALSE)\n",
    "\n",
    "# For each fold, train and test on Linear Regression algorithm\n",
    "resids <- c(1:nrow(crime_data))\n",
    "preds <- c(1:nrow(crime_data))\n",
    "for (i in 1:5) {\n",
    "    print(glue(\"Iteration #{i}\"))\n",
    "    test_indices <- which(folds==i, arr.ind=TRUE)\n",
    "    test_data <- crime_data[test_indices, ]\n",
    "    train_data <- crime_data[-test_indices, ]\n",
    "\n",
    "    temp_fit <- lm(formula=Crime ~ M + Ed + Po1 + U2 + Ineq + Prob + Time, data=train_data)\n",
    "    print(summary(temp_fit))\n",
    "    \n",
    "    # Perform prediction step on test data since model was fit using the training data\n",
    "    preds[test_indices] <- predict(temp_fit, test_data)    \n",
    "    resids[test_indices] <- test_data$Crime - preds[test_indices]\n",
    "}\n",
    "\n",
    "overall_rmse <- round(rmse(resids), 3)\n",
    "overall_mae <- round(mae(resids), 3)\n",
    "\n",
    "print(glue(\"RMSE: {overall_rmse}\"))\n",
    "print(glue(\"MAE: {overall_mae}\"))"
   ]
  },
  {
   "cell_type": "code",
   "execution_count": 57,
   "metadata": {},
   "outputs": [
    {
     "data": {},
     "metadata": {},
     "output_type": "display_data"
    },
    {
     "data": {
      "image/png": "[encoded data removed]",
      "text/plain": [
       "plot without title"
      ]
     },
     "metadata": {},
     "output_type": "display_data"
    }
   ],
   "source": [
    "xyplot(resids ~ preds,\n",
    "  xlab = \"Fitted Values\",\n",
    "  ylab = \"Residuals\",\n",
    "  main = \"Residual Diagnostic Plot\",\n",
    "  panel = function(x, y, ...)\n",
    "  {\n",
    "    panel.grid(h = -1, v = -1)\n",
    "    panel.abline(h = 0)\n",
    "    panel.xyplot(x, y, ...)\n",
    "  }\n",
    ")"
   ]
  },
  {
   "cell_type": "markdown",
   "metadata": {},
   "source": [
    "The second model with the subset of predictors worked the better than the model built on all the predictors. RMSE reduced from 289.558 to 227.23 and MAE reducted from 221.229 to 169.714.\n",
    "\n",
    "So, now the final model using all available data will be built using the formula below: \n",
    "\n",
    "Crime ~ M + Ed + Po1 + U2 + Ineq + Prob + Time\n"
   ]
  },
  {
   "cell_type": "code",
   "execution_count": 61,
   "metadata": {},
   "outputs": [
    {
     "name": "stdout",
     "output_type": "stream",
     "text": [
      "Prediction for the crime rate for the sample data is 1285.283\n",
      "[1] \"Final Model\"\n",
      "\n",
      "Call:\n",
      "lm(formula = Crime ~ M + Ed + Po1 + U2 + Ineq + Prob + Time, \n",
      "    data = crime_data)\n",
      "\n",
      "Residuals:\n",
      "   Min     1Q Median     3Q    Max \n",
      "-480.9  -89.1   -6.6  140.3  576.8 \n",
      "\n",
      "Coefficients:\n",
      "            Estimate Std. Error t value Pr(>|t|)    \n",
      "(Intercept) -4911.09     960.73   -5.11  8.8e-06 ***\n",
      "M             106.66      33.88    3.15  0.00314 ** \n",
      "Ed            189.41      48.29    3.92  0.00035 ***\n",
      "Po1           115.70      13.99    8.27  4.2e-10 ***\n",
      "U2             88.72      41.36    2.14  0.03825 *  \n",
      "Ineq           67.73      14.08    4.81  2.3e-05 ***\n",
      "Prob        -4249.76    1880.67   -2.26  0.02950 *  \n",
      "Time           -2.31       5.54   -0.42  0.67881    \n",
      "---\n",
      "Signif. codes:  0 ‘***’ 0.001 ‘**’ 0.01 ‘*’ 0.05 ‘.’ 0.1 ‘ ’ 1\n",
      "\n",
      "Residual standard error: 203 on 39 degrees of freedom\n",
      "Multiple R-squared:  0.767,\tAdjusted R-squared:  0.725 \n",
      "F-statistic: 18.3 on 7 and 39 DF,  p-value: 1.55e-10\n",
      "\n"
     ]
    }
   ],
   "source": [
    "final_model <- lm(formula=Crime ~ M + Ed + Po1 + U2 + Ineq + Prob + Time, data=crime_data)\n",
    "\n",
    "sample_prediction <- round(predict(final_model, sample_data), 3)\n",
    "\n",
    "print(glue(\"Prediction for the crime rate for the sample data is {sample_prediction}\"))\n",
    "print(\"Final Model\")\n",
    "print(summary(final_model))"
   ]
  }
 ],
 "metadata": {
  "kernelspec": {
   "display_name": "R",
   "language": "R",
   "name": "ir"
  },
  "language_info": {
   "codemirror_mode": "r",
   "file_extension": ".r",
   "mimetype": "text/x-r-source",
   "name": "R",
   "pygments_lexer": "r",
   "version": "3.5.0"
  }
 },
 "nbformat": 4,
 "nbformat_minor": 2
}
